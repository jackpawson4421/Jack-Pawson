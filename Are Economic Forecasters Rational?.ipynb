{
 "cells": [
  {
   "cell_type": "markdown",
   "id": "028fbb2a",
   "metadata": {},
   "source": [
    "# _Are Professional Forecasters Rational_?\n",
    "## Analysis by Jack Pawson\n"
   ]
  },
  {
   "cell_type": "code",
   "execution_count": 16,
   "id": "dd9ab33c",
   "metadata": {},
   "outputs": [
    {
     "name": "stdout",
     "output_type": "stream",
     "text": [
      "/Users/jackpawson/ECON 416/416 data\n"
     ]
    }
   ],
   "source": [
    "import matplotlib.pyplot as plt\n",
    "import numpy as np\n",
    "import seaborn as sns\n",
    "import pandas as pd \n",
    "from scipy import stats\n",
    "\n",
    "from scipy.stats import norm \n",
    "sns.set_theme()\n",
    "import os\n",
    "print(os.getcwd())\n",
    "import imageio\n",
    "rng = np.random.default_rng()\n",
    "\n",
    "from IPython.display import FileLink\n",
    "\n",
    "\n",
    "#importing all the things we need "
   ]
  },
  {
   "cell_type": "code",
   "execution_count": 17,
   "id": "730633b4",
   "metadata": {},
   "outputs": [],
   "source": [
    "os.chdir('/Users/jackpawson/ECON 416/416 data') #setting directory "
   ]
  },
  {
   "cell_type": "markdown",
   "id": "31c65448",
   "metadata": {},
   "source": [
    "# Documentation\n",
    "### PRUNEMP\n",
    "Density projections represent the annual-average unemployment rate falling into various ranges, measured in percentage points. The annual-average unemployment rate\n",
    "is the average of the 12 monthly unemployment rates of the year. See the\n",
    "section on “Mean Probability Forecasts” for additional details.\n",
    "First survey to include this variable: 2009:Q2.\n"
   ]
  },
  {
   "cell_type": "code",
   "execution_count": 18,
   "id": "b9d30e45",
   "metadata": {},
   "outputs": [
    {
     "name": "stderr",
     "output_type": "stream",
     "text": [
      "/Users/jackpawson/opt/anaconda3/lib/python3.9/site-packages/openpyxl/worksheet/header_footer.py:48: UserWarning: Cannot parse header or footer so it will be ignored\n",
      "  warn(\"\"\"Cannot parse header or footer so it will be ignored\"\"\")\n"
     ]
    }
   ],
   "source": [
    "forecasts = pd.read_excel('SPFmicrodata.xlsx', sheet_name = 'PRUNEMP') \n",
    "\n",
    "#reading in data and the sheet we will work with "
   ]
  },
  {
   "cell_type": "code",
   "execution_count": 19,
   "id": "e9486e5e",
   "metadata": {},
   "outputs": [
    {
     "name": "stdout",
     "output_type": "stream",
     "text": [
      "   YEAR  QUARTER  ID  INDUSTRY  PRUNEMP1  PRUNEMP2  PRUNEMP3  PRUNEMP4  \\\n",
      "0  1968        4   1       NaN       NaN       NaN       NaN       NaN   \n",
      "1  1968        4   2       NaN       NaN       NaN       NaN       NaN   \n",
      "2  1968        4   3       NaN       NaN       NaN       NaN       NaN   \n",
      "3  1968        4   4       NaN       NaN       NaN       NaN       NaN   \n",
      "4  1968        4   5       NaN       NaN       NaN       NaN       NaN   \n",
      "\n",
      "   PRUNEMP5  PRUNEMP6  ...  PRUNEMP31  PRUNEMP32  PRUNEMP33  PRUNEMP34  \\\n",
      "0       NaN       NaN  ...        NaN        NaN        NaN        NaN   \n",
      "1       NaN       NaN  ...        NaN        NaN        NaN        NaN   \n",
      "2       NaN       NaN  ...        NaN        NaN        NaN        NaN   \n",
      "3       NaN       NaN  ...        NaN        NaN        NaN        NaN   \n",
      "4       NaN       NaN  ...        NaN        NaN        NaN        NaN   \n",
      "\n",
      "   PRUNEMP35  PRUNEMP36  PRUNEMP37  PRUNEMP38  PRUNEMP39  PRUNEMP40  \n",
      "0        NaN        NaN        NaN        NaN        NaN        NaN  \n",
      "1        NaN        NaN        NaN        NaN        NaN        NaN  \n",
      "2        NaN        NaN        NaN        NaN        NaN        NaN  \n",
      "3        NaN        NaN        NaN        NaN        NaN        NaN  \n",
      "4        NaN        NaN        NaN        NaN        NaN        NaN  \n",
      "\n",
      "[5 rows x 44 columns]\n"
     ]
    }
   ],
   "source": [
    "print(forecasts.head())"
   ]
  },
  {
   "cell_type": "code",
   "execution_count": 20,
   "id": "70795c66",
   "metadata": {},
   "outputs": [],
   "source": [
    "forecasts = forecasts.iloc[6544:,[0,1,2,14,15,16,17,18,19,20,21,22,23]]\n",
    "\n",
    "#attain the correct columns which we will use in the analysis\n",
    "#6544 is the excel row that is the start of Q2 2009"
   ]
  },
  {
   "cell_type": "markdown",
   "id": "57979492",
   "metadata": {},
   "source": [
    "This table shows how each column represents a given probability of unemployment. We can alter our column names to reflect the range each column represents. Since the columns represent differnet ranges in different time periods, we can split our DataFrame into 3, each new DataFrame representing a particular time range. We do not need to create a datset for 2024 Q2 through the present, sicne we do not have that data. The data only goes up to Q1 of 2024.\n"
   ]
  },
  {
   "cell_type": "code",
   "execution_count": 21,
   "id": "04ce6140",
   "metadata": {},
   "outputs": [
    {
     "data": {
      "text/plain": [
       "Index(['YEAR', 'QUARTER', 'ID', 'PRUNEMP11', 'PRUNEMP12', 'PRUNEMP13',\n",
       "       'PRUNEMP14', 'PRUNEMP15', 'PRUNEMP16', 'PRUNEMP17', 'PRUNEMP18',\n",
       "       'PRUNEMP19', 'PRUNEMP20'],\n",
       "      dtype='object')"
      ]
     },
     "execution_count": 21,
     "metadata": {},
     "output_type": "execute_result"
    }
   ],
   "source": [
    "forecasts.columns"
   ]
  },
  {
   "cell_type": "markdown",
   "id": "9074d5d2",
   "metadata": {},
   "source": [
    "## Which forecasters are the most prolific?\n",
    "\n",
    "We are going to look at the data from the 3 forecasters with the most entries in the DataFrame. To determine which ID's these are, we can use groupby.\n"
   ]
  },
  {
   "cell_type": "code",
   "execution_count": 22,
   "id": "816bd05f",
   "metadata": {},
   "outputs": [
    {
     "data": {
      "text/plain": [
       "ID\n",
       "99      1\n",
       "566     1\n",
       "544     1\n",
       "530     1\n",
       "84      2\n",
       "       ..\n",
       "504    58\n",
       "555    59\n",
       "518    59\n",
       "510    60\n",
       "549    60\n",
       "Length: 95, dtype: int64"
      ]
     },
     "execution_count": 22,
     "metadata": {},
     "output_type": "execute_result"
    }
   ],
   "source": [
    "IDs = forecasts.groupby('ID') #group by IDS \n",
    "IDs_size = IDs.size() #determine the size of IDs \n",
    "IDs_size.sort_values() #find the IDs with the most entries "
   ]
  },
  {
   "cell_type": "markdown",
   "id": "f0d7042a",
   "metadata": {},
   "source": [
    "We want to look at the most prolific forecasters, whose IDs are:\n",
    "- 549.0\n",
    "- 510.0\n",
    "- 518.0\n",
    "\n",
    "We can limit our DataFrame to only those three forecasters' forecasts.\n"
   ]
  },
  {
   "cell_type": "code",
   "execution_count": 23,
   "id": "c3dce17c",
   "metadata": {},
   "outputs": [],
   "source": [
    "forecasts['DATE'] = pd.PeriodIndex(year=forecasts['YEAR'],quarter=forecasts['QUARTER'],freq='Q')\n",
    "forecasts.set_index(['ID', 'DATE'], inplace = True)\n",
    "forecasts = forecasts.drop('YEAR', axis = 1)\n",
    "forecasts = forecasts.drop ('QUARTER', axis = 1)\n",
    "\n",
    "forecasts_prolific = forecasts"
   ]
  },
  {
   "cell_type": "markdown",
   "id": "a89ad6f0",
   "metadata": {},
   "source": [
    "## Regulating Forecasters\n",
    "\n",
    "We have to ensure that for each ID and forecast, their probability distribution sums to 100. in order to do so, we can sum up each row, and divide the probabilities by the sum. So, if a row summed up to only 98, each probability would be divided by 0.98, such that the sum of the probabilities summed to 100. Right now, we have the data from our three forecasters, but we do not know if the data sums to 100% for each Date.\n"
   ]
  },
  {
   "cell_type": "code",
   "execution_count": 13,
   "id": "e2307deb",
   "metadata": {},
   "outputs": [
    {
     "data": {
      "text/plain": [
       "['PRUNEMP11',\n",
       " 'PRUNEMP12',\n",
       " 'PRUNEMP13',\n",
       " 'PRUNEMP14',\n",
       " 'PRUNEMP15',\n",
       " 'PRUNEMP16',\n",
       " 'PRUNEMP17',\n",
       " 'PRUNEMP18',\n",
       " 'PRUNEMP19',\n",
       " 'PRUNEMP20']"
      ]
     },
     "execution_count": 13,
     "metadata": {},
     "output_type": "execute_result"
    }
   ],
   "source": [
    "columns = [col for col in forecasts_prolific.columns]\n",
    "columns "
   ]
  },
  {
   "cell_type": "code",
   "execution_count": 14,
   "id": "9a38dac4",
   "metadata": {},
   "outputs": [],
   "source": [
    "def sum_to_100(row): #ensures the probabilities sum to 100 \n",
    "    rsum = row.sum() #row sum \n",
    "    if rsum != 100: #\n",
    "        row = (row/rsum) *100 #divides by sum and multiplies to 100 \n",
    "        return row\n",
    "    else:\n",
    "        return row"
   ]
  },
  {
   "cell_type": "code",
   "execution_count": 15,
   "id": "8e6c7e4c",
   "metadata": {},
   "outputs": [
    {
     "data": {
      "text/html": [
       "<div>\n",
       "<style scoped>\n",
       "    .dataframe tbody tr th:only-of-type {\n",
       "        vertical-align: middle;\n",
       "    }\n",
       "\n",
       "    .dataframe tbody tr th {\n",
       "        vertical-align: top;\n",
       "    }\n",
       "\n",
       "    .dataframe thead th {\n",
       "        text-align: right;\n",
       "    }\n",
       "</style>\n",
       "<table border=\"1\" class=\"dataframe\">\n",
       "  <thead>\n",
       "    <tr style=\"text-align: right;\">\n",
       "      <th></th>\n",
       "      <th></th>\n",
       "      <th>PRUNEMP11</th>\n",
       "      <th>PRUNEMP12</th>\n",
       "      <th>PRUNEMP13</th>\n",
       "      <th>PRUNEMP14</th>\n",
       "      <th>PRUNEMP15</th>\n",
       "      <th>PRUNEMP16</th>\n",
       "      <th>PRUNEMP17</th>\n",
       "      <th>PRUNEMP18</th>\n",
       "      <th>PRUNEMP19</th>\n",
       "      <th>PRUNEMP20</th>\n",
       "    </tr>\n",
       "    <tr>\n",
       "      <th>ID</th>\n",
       "      <th>DATE</th>\n",
       "      <th></th>\n",
       "      <th></th>\n",
       "      <th></th>\n",
       "      <th></th>\n",
       "      <th></th>\n",
       "      <th></th>\n",
       "      <th></th>\n",
       "      <th></th>\n",
       "      <th></th>\n",
       "      <th></th>\n",
       "    </tr>\n",
       "  </thead>\n",
       "  <tbody>\n",
       "    <tr>\n",
       "      <th rowspan=\"5\" valign=\"top\">549</th>\n",
       "      <th>2009Q2</th>\n",
       "      <td>0.0</td>\n",
       "      <td>15.0</td>\n",
       "      <td>50.0</td>\n",
       "      <td>35.0</td>\n",
       "      <td>0.0</td>\n",
       "      <td>0.0</td>\n",
       "      <td>0.0</td>\n",
       "      <td>0.0</td>\n",
       "      <td>0.0</td>\n",
       "      <td>0.0</td>\n",
       "    </tr>\n",
       "    <tr>\n",
       "      <th>2009Q3</th>\n",
       "      <td>0.0</td>\n",
       "      <td>10.0</td>\n",
       "      <td>55.0</td>\n",
       "      <td>35.0</td>\n",
       "      <td>0.0</td>\n",
       "      <td>0.0</td>\n",
       "      <td>0.0</td>\n",
       "      <td>0.0</td>\n",
       "      <td>0.0</td>\n",
       "      <td>0.0</td>\n",
       "    </tr>\n",
       "    <tr>\n",
       "      <th>2009Q4</th>\n",
       "      <td>0.0</td>\n",
       "      <td>55.0</td>\n",
       "      <td>45.0</td>\n",
       "      <td>0.0</td>\n",
       "      <td>0.0</td>\n",
       "      <td>0.0</td>\n",
       "      <td>0.0</td>\n",
       "      <td>0.0</td>\n",
       "      <td>0.0</td>\n",
       "      <td>0.0</td>\n",
       "    </tr>\n",
       "    <tr>\n",
       "      <th>2010Q1</th>\n",
       "      <td>0.0</td>\n",
       "      <td>0.0</td>\n",
       "      <td>35.0</td>\n",
       "      <td>55.0</td>\n",
       "      <td>10.0</td>\n",
       "      <td>0.0</td>\n",
       "      <td>0.0</td>\n",
       "      <td>0.0</td>\n",
       "      <td>0.0</td>\n",
       "      <td>0.0</td>\n",
       "    </tr>\n",
       "    <tr>\n",
       "      <th>2010Q2</th>\n",
       "      <td>0.0</td>\n",
       "      <td>0.0</td>\n",
       "      <td>20.0</td>\n",
       "      <td>60.0</td>\n",
       "      <td>20.0</td>\n",
       "      <td>0.0</td>\n",
       "      <td>0.0</td>\n",
       "      <td>0.0</td>\n",
       "      <td>0.0</td>\n",
       "      <td>0.0</td>\n",
       "    </tr>\n",
       "    <tr>\n",
       "      <th>...</th>\n",
       "      <th>...</th>\n",
       "      <td>...</td>\n",
       "      <td>...</td>\n",
       "      <td>...</td>\n",
       "      <td>...</td>\n",
       "      <td>...</td>\n",
       "      <td>...</td>\n",
       "      <td>...</td>\n",
       "      <td>...</td>\n",
       "      <td>...</td>\n",
       "      <td>...</td>\n",
       "    </tr>\n",
       "    <tr>\n",
       "      <th rowspan=\"5\" valign=\"top\">518</th>\n",
       "      <th>2023Q1</th>\n",
       "      <td>0.0</td>\n",
       "      <td>0.0</td>\n",
       "      <td>0.0</td>\n",
       "      <td>0.0</td>\n",
       "      <td>0.0</td>\n",
       "      <td>10.0</td>\n",
       "      <td>40.0</td>\n",
       "      <td>40.0</td>\n",
       "      <td>10.0</td>\n",
       "      <td>0.0</td>\n",
       "    </tr>\n",
       "    <tr>\n",
       "      <th>2023Q2</th>\n",
       "      <td>0.0</td>\n",
       "      <td>0.0</td>\n",
       "      <td>0.0</td>\n",
       "      <td>0.0</td>\n",
       "      <td>0.0</td>\n",
       "      <td>0.0</td>\n",
       "      <td>10.0</td>\n",
       "      <td>70.0</td>\n",
       "      <td>20.0</td>\n",
       "      <td>0.0</td>\n",
       "    </tr>\n",
       "    <tr>\n",
       "      <th>2023Q3</th>\n",
       "      <td>0.0</td>\n",
       "      <td>0.0</td>\n",
       "      <td>0.0</td>\n",
       "      <td>0.0</td>\n",
       "      <td>0.0</td>\n",
       "      <td>0.0</td>\n",
       "      <td>10.0</td>\n",
       "      <td>70.0</td>\n",
       "      <td>20.0</td>\n",
       "      <td>0.0</td>\n",
       "    </tr>\n",
       "    <tr>\n",
       "      <th>2023Q4</th>\n",
       "      <td>0.0</td>\n",
       "      <td>0.0</td>\n",
       "      <td>0.0</td>\n",
       "      <td>0.0</td>\n",
       "      <td>0.0</td>\n",
       "      <td>0.0</td>\n",
       "      <td>10.0</td>\n",
       "      <td>80.0</td>\n",
       "      <td>10.0</td>\n",
       "      <td>0.0</td>\n",
       "    </tr>\n",
       "    <tr>\n",
       "      <th>2024Q1</th>\n",
       "      <td>0.0</td>\n",
       "      <td>0.0</td>\n",
       "      <td>0.0</td>\n",
       "      <td>0.0</td>\n",
       "      <td>0.0</td>\n",
       "      <td>0.0</td>\n",
       "      <td>20.0</td>\n",
       "      <td>70.0</td>\n",
       "      <td>10.0</td>\n",
       "      <td>0.0</td>\n",
       "    </tr>\n",
       "  </tbody>\n",
       "</table>\n",
       "<p>179 rows × 10 columns</p>\n",
       "</div>"
      ],
      "text/plain": [
       "            PRUNEMP11  PRUNEMP12  PRUNEMP13  PRUNEMP14  PRUNEMP15  PRUNEMP16  \\\n",
       "ID  DATE                                                                       \n",
       "549 2009Q2        0.0       15.0       50.0       35.0        0.0        0.0   \n",
       "    2009Q3        0.0       10.0       55.0       35.0        0.0        0.0   \n",
       "    2009Q4        0.0       55.0       45.0        0.0        0.0        0.0   \n",
       "    2010Q1        0.0        0.0       35.0       55.0       10.0        0.0   \n",
       "    2010Q2        0.0        0.0       20.0       60.0       20.0        0.0   \n",
       "...               ...        ...        ...        ...        ...        ...   \n",
       "518 2023Q1        0.0        0.0        0.0        0.0        0.0       10.0   \n",
       "    2023Q2        0.0        0.0        0.0        0.0        0.0        0.0   \n",
       "    2023Q3        0.0        0.0        0.0        0.0        0.0        0.0   \n",
       "    2023Q4        0.0        0.0        0.0        0.0        0.0        0.0   \n",
       "    2024Q1        0.0        0.0        0.0        0.0        0.0        0.0   \n",
       "\n",
       "            PRUNEMP17  PRUNEMP18  PRUNEMP19  PRUNEMP20  \n",
       "ID  DATE                                                \n",
       "549 2009Q2        0.0        0.0        0.0        0.0  \n",
       "    2009Q3        0.0        0.0        0.0        0.0  \n",
       "    2009Q4        0.0        0.0        0.0        0.0  \n",
       "    2010Q1        0.0        0.0        0.0        0.0  \n",
       "    2010Q2        0.0        0.0        0.0        0.0  \n",
       "...               ...        ...        ...        ...  \n",
       "518 2023Q1       40.0       40.0       10.0        0.0  \n",
       "    2023Q2       10.0       70.0       20.0        0.0  \n",
       "    2023Q3       10.0       70.0       20.0        0.0  \n",
       "    2023Q4       10.0       80.0       10.0        0.0  \n",
       "    2024Q1       20.0       70.0       10.0        0.0  \n",
       "\n",
       "[179 rows x 10 columns]"
      ]
     },
     "execution_count": 15,
     "metadata": {},
     "output_type": "execute_result"
    }
   ],
   "source": [
    "forecasts_prolific[columns] = forecasts_prolific[columns].apply(sum_to_100, axis = 1)\n",
    "forecasts_prolific[columns]"
   ]
  },
  {
   "cell_type": "code",
   "execution_count": 16,
   "id": "dfcdcceb",
   "metadata": {},
   "outputs": [
    {
     "name": "stdout",
     "output_type": "stream",
     "text": [
      "ID   DATE  \n",
      "549  2009Q2    100.0\n",
      "     2009Q3    100.0\n",
      "     2009Q4    100.0\n",
      "     2010Q1    100.0\n",
      "     2010Q2    100.0\n",
      "     2010Q3    100.0\n",
      "     2010Q4    100.0\n",
      "     2011Q1    100.0\n",
      "     2011Q2    100.0\n",
      "     2011Q3    100.0\n",
      "     2011Q4    100.0\n",
      "     2012Q1    100.0\n",
      "     2012Q2    100.0\n",
      "     2012Q3    100.0\n",
      "     2012Q4    100.0\n",
      "     2013Q1    100.0\n",
      "     2013Q2    100.0\n",
      "     2013Q3    100.0\n",
      "     2013Q4    100.0\n",
      "     2014Q1    100.0\n",
      "     2014Q2    100.0\n",
      "     2014Q3    100.0\n",
      "     2014Q4    100.0\n",
      "     2015Q1    100.0\n",
      "     2015Q2    100.0\n",
      "     2015Q3    100.0\n",
      "     2015Q4    100.0\n",
      "     2016Q1    100.0\n",
      "     2016Q2    100.0\n",
      "     2016Q3    100.0\n",
      "     2016Q4    100.0\n",
      "     2017Q1    100.0\n",
      "     2017Q2    100.0\n",
      "     2017Q3    100.0\n",
      "     2017Q4    100.0\n",
      "     2018Q1    100.0\n",
      "     2018Q2    100.0\n",
      "     2018Q3    100.0\n",
      "     2018Q4    100.0\n",
      "     2019Q1    100.0\n",
      "     2019Q2    100.0\n",
      "     2019Q3    100.0\n",
      "     2019Q4    100.0\n",
      "     2020Q1    100.0\n",
      "     2020Q2    100.0\n",
      "     2020Q3    100.0\n",
      "     2020Q4    100.0\n",
      "     2021Q1    100.0\n",
      "     2021Q2    100.0\n",
      "     2021Q3    100.0\n",
      "dtype: float64\n"
     ]
    }
   ],
   "source": [
    "print(forecasts_prolific[columns].sum(axis=1).head(50))\n",
    "\n",
    "#The sum of all the columns together for all of the IDs and forecasters is equivalent to 100. "
   ]
  },
  {
   "cell_type": "markdown",
   "id": "4f56130d",
   "metadata": {},
   "source": [
    "Now we can see that for our rows of data, the sum of the probability distributions is always 100. We do not have to worry whether or not a forecaster has made an error in their calculation. We can finally begin looking at the data, and using it to draw conclusions about the rationality of our forecasters.\n",
    "\n",
    "# Data sampling\n",
    "\n",
    "## Interval Assignment Function\n",
    "\n",
    "<img src=\"Probability Table.png\">\n"
   ]
  },
  {
   "cell_type": "code",
   "execution_count": 30,
   "id": "ae37ac6f",
   "metadata": {},
   "outputs": [],
   "source": [
    "intervals_t1 = [[2.0, 5.9], [6.0,6.9],[7.0,7.4],[7.5,7.9], [8.0,8.4],\n",
    "                [8.5,8.9], [9.0,9.4], [9.5,9.9], [10.0, 10.9], [11.0,20.0]]\n",
    "\n",
    "intervals_t2 = [[2.0, 3.9], [4.0,4.9],[5.0,5.4],[5.5,5.9], [6.0,6.4],\n",
    "                [6.5,6.9], [7.0,7.4], [7.5,7.9], [8.0, 8.9], [9.0,20.0]]\n",
    "\n",
    "intervals_t3 = [[2.0, 2.9], [3.0, 3.9],[4.0,4.9],[5.0,5.9], [6.0,6.9],\n",
    "                [7.0,7.9], [8.0,9.9], [10.0,11.9], [12.0, 14.9], [15.0,20.0]]\n"
   ]
  },
  {
   "cell_type": "markdown",
   "id": "a5460d8f",
   "metadata": {},
   "source": []
  },
  {
   "cell_type": "code",
   "execution_count": 31,
   "id": "78b9a41d",
   "metadata": {},
   "outputs": [],
   "source": [
    "intervals_t1 = [[2.0, 5.9], [6.0, 6.9], [7.0, 7.4], [7.5, 7.9], [8.0, 8.4], [8.5, 8.9], [9.0, 9.4], [9.5, 9.9], [10.0, 10.9], [11.0, 20.0]]\n",
    "intervals_t2 = [[2.0, 3.9], [4.0, 4.9], [5.0, 5.4], [5.5, 5.9], [6.0, 6.4], [6.5, 6.9], [7.0, 7.4], [7.5, 7.9], [8.0, 8.9], [9.0, 20.0]]\n",
    "intervals_t3 = [[2.0, 2.9], [3.0, 3.9], [4.0, 4.9], [5.0, 5.9], [6.0, 6.9], [7.0, 7.9], [8.0, 9.9], [10.0, 11.9], [12.0, 14.9], [15.0, 20.0]]\n"
   ]
  },
  {
   "cell_type": "code",
   "execution_count": 32,
   "id": "44878b5c",
   "metadata": {},
   "outputs": [],
   "source": [
    "reversed_intervals_t1 = intervals_t1[::-1]\n",
    "reversed_intervals_t2 = intervals_t2[::-1]\n",
    "reversed_intervals_t3 = intervals_t3[::-1]"
   ]
  },
  {
   "cell_type": "markdown",
   "id": "7483fa2d",
   "metadata": {},
   "source": [
    "We have to reverse the intervals, because according to the documentation of the forecasters predictions, column 11 is actually related to the higher interval, rather than the lower interval. As the column number increases, the intervals descend. If we did not reverse the intervals (or simply write them in reverse order originally), the intervals would be incorrectly related to the columns in the DataFrame\n"
   ]
  },
  {
   "cell_type": "code",
   "execution_count": 33,
   "id": "a7ac941c",
   "metadata": {},
   "outputs": [],
   "source": [
    "def interval_assign(date): \n",
    "    \n",
    "    if date >= pd.Period('2020Q2'):#interval 3 \n",
    "        \n",
    "        return reversed_intervals_t3\n",
    "    \n",
    "    elif date >= pd.Period('2014Q1'): #interval 2 \n",
    "        \n",
    "        return reversed_intervals_t2\n",
    "    \n",
    "    else: #interval 1 \n",
    "        \n",
    "        return reversed_intervals_t1"
   ]
  },
  {
   "cell_type": "markdown",
   "id": "8da7f484",
   "metadata": {},
   "source": [
    "Depending on the the date, our columns correspond to different intervals. This function assigns the correct interval depending on the date of the row.\n",
    "\n",
    "There are 3 different interval distinctions dependign on the time of the forecast.\n",
    "In the first time period (2009- 2013Q4): The intervals are:\n",
    "```\n",
    "[[0, 5.9]\n",
    "[6.0,6.9]\n",
    "[7.0,7.4]\n",
    "[7.5,7.9]\n",
    "[8.0,8.4]\n",
    "[8.5,8.9]\n",
    "[9.0,9.4]\n",
    "[9.5,9.9]\n",
    "[10.0,10.9]\n",
    "[11.0,99]]\n",
    "```\n",
    "In the second time period (2014Q1 - 2020Q1): The intervals are:\n",
    "```\n",
    "[[0, 3.9]\n",
    "[4.0,4.9]\n",
    "[5.0,5.4]\n",
    "[5.5,5.9]\n",
    "[6.0,6.4]\n",
    "[6.5,6.9]\n",
    "[7.0,7.4]\n",
    "[7.5,7.9]\n",
    "[8.0, 8.9]\n",
    "[9.0,99.0]]\n",
    "```\n",
    "In the third time period (2020Q2 - 2024Q1): The intervals are:\n",
    "```\n",
    "[[0, 2.9]\n",
    "[3.0, 3.9]\n",
    "[4.0,4.9]\n",
    "[5.0,5.9]\n",
    "[6.0,6.9]\n",
    "[7.0,7.9]\n",
    "[8.0,9.9]\n",
    "[10.0,11.9]\n",
    "[12.0, 14.9]\n",
    "[15.0,99.0]]\n",
    "```\n",
    "Depending on the time of the forecasts, the meaning of the data column changes. When we are creating our sampling distributions, we have to assign the intervals based on the Date of the forecasts.\n",
    "\n",
    "### generate_samples(row, date, num_samples) function\n"
   ]
  },
  {
   "cell_type": "code",
   "execution_count": 35,
   "id": "454c8712",
   "metadata": {
    "scrolled": false
   },
   "outputs": [],
   "source": [
    "def generate_samples(row, date, num_samples):\n",
    "    \n",
    "    intervals = interval_assign(date) #assigning the correct interval \n",
    "    samples = [] #will hold the samples we draw \n",
    "    \n",
    "    if row.sum() == 0:\n",
    "        \n",
    "        return [None] * num_samples #if the value of the row does not sum properly we create a null value\n",
    "    \n",
    "    normalized_probs = row / row.sum() #making sure the probabilities go to 100 \n",
    "    for _ in range(num_samples):\n",
    "        #for the length of the determined samples, we create a random number and assign it to the interval \n",
    "        \n",
    "        chosen_index = rng.choice(len(row), p=normalized_probs) #stores teh randomly chosen index, based on the simulation \n",
    "        \n",
    "        #the rng.choice chooses an interval based on the probabilities in each row \n",
    "        sample = rng.uniform(intervals[chosen_index][0], intervals[chosen_index][1])\n",
    "        samples.append(sample)\n",
    "        \n",
    "    return samples #returns the samples in the form of a list, \n",
    "#which we can tirn into a dataframe later to visualize and analyze. \n",
    "\n",
    "\n"
   ]
  },
  {
   "cell_type": "code",
   "execution_count": 459,
   "id": "ce965132",
   "metadata": {},
   "outputs": [
    {
     "data": {
      "image/png": "[encoded data removed]",
      "text/plain": [
       "<Figure size 720x432 with 1 Axes>"
      ]
     },
     "metadata": {},
     "output_type": "display_data"
    },
    {
     "data": {
      "image/png": "[encoded data removed]",
      "text/plain": [
       "<Figure size 720x432 with 1 Axes>"
      ]
     },
     "metadata": {},
     "output_type": "display_data"
    },
    {
     "data": {
      "image/png": "[encoded data removed]",
      "text/plain": [
       "<Figure size 720x432 with 1 Axes>"
      ]
     },
     "metadata": {},
     "output_type": "display_data"
    },
    {
     "data": {
      "image/png": "[encoded data removed]",
      "text/plain": [
       "<Figure size 720x432 with 1 Axes>"
      ]
     },
     "metadata": {},
     "output_type": "display_data"
    },
    {
     "data": {
      "image/png": "[encoded data removed]",
      "text/plain": [
       "<Figure size 720x432 with 1 Axes>"
      ]
     },
     "metadata": {},
     "output_type": "display_data"
    }
   ],
   "source": [
    "sampled_data = {} #creates a dictionary, which will hold the data and the index of each sample \n",
    "#will be turned into a dataframe\n",
    "\n",
    "for idx, row in forecasts_prolific.iterrows(): #.iterrows() allows us to go through all the rows of data in a loop\n",
    "    \n",
    "    #will run for all the indexes and rows of the index in the original forecasts_prolific dataframe \n",
    "    \n",
    "    date = pd.Period(idx[1], freq='Q' )  #gets the date from the index (period index with quarterly frequency)\n",
    "    samples = generate_samples(row[1:], date, 10000 ) #the 10000 is the number of samples being drawn \n",
    "    \n",
    "    sampled_data[(idx[0], idx[1])] = samples\n",
    "    \n",
    "    if len(sampled_data) <= 5:  #plots the first 5 histograms to ensure correctness \n",
    "        #once more than 5 things are sampled, it will not plot, but we can be sure it is doing it correctly \n",
    "        #we can manually check teh dataframe to ensure the correct intervals are beign plotted \n",
    "        plt.figure(figsize=(10, 6))\n",
    "        plt.hist(samples, bins=30, edgecolor='black', range = (0,15) )\n",
    "        plt.title(f'Histogram for ID {idx[0]}, Date {idx[1]}' ) #shows the ID and the period of the histogram \n",
    "        plt.xlabel('Sampled Value')\n",
    "        plt.ylabel('Frequency')\n",
    "        plt.grid(True)\n",
    "        plt.show()"
   ]
  },
  {
   "cell_type": "markdown",
   "id": "360594c9",
   "metadata": {},
   "source": [
    "These are 5 example of the histograms. (The ID and Date is listed as the title).\n"
   ]
  },
  {
   "cell_type": "code",
   "execution_count": 460,
   "id": "7a82acbd",
   "metadata": {
    "scrolled": true
   },
   "outputs": [
    {
     "data": {
      "text/html": [
       "<div>\n",
       "<style scoped>\n",
       "    .dataframe tbody tr th:only-of-type {\n",
       "        vertical-align: middle;\n",
       "    }\n",
       "\n",
       "    .dataframe tbody tr th {\n",
       "        vertical-align: top;\n",
       "    }\n",
       "\n",
       "    .dataframe thead th {\n",
       "        text-align: right;\n",
       "    }\n",
       "</style>\n",
       "<table border=\"1\" class=\"dataframe\">\n",
       "  <thead>\n",
       "    <tr style=\"text-align: right;\">\n",
       "      <th></th>\n",
       "      <th></th>\n",
       "      <th>0</th>\n",
       "      <th>1</th>\n",
       "      <th>2</th>\n",
       "      <th>3</th>\n",
       "      <th>4</th>\n",
       "      <th>5</th>\n",
       "      <th>6</th>\n",
       "      <th>7</th>\n",
       "      <th>8</th>\n",
       "      <th>9</th>\n",
       "      <th>...</th>\n",
       "      <th>9990</th>\n",
       "      <th>9991</th>\n",
       "      <th>9992</th>\n",
       "      <th>9993</th>\n",
       "      <th>9994</th>\n",
       "      <th>9995</th>\n",
       "      <th>9996</th>\n",
       "      <th>9997</th>\n",
       "      <th>9998</th>\n",
       "      <th>9999</th>\n",
       "    </tr>\n",
       "  </thead>\n",
       "  <tbody>\n",
       "    <tr>\n",
       "      <th rowspan=\"5\" valign=\"top\">549</th>\n",
       "      <th>2009Q2</th>\n",
       "      <td>10.075663</td>\n",
       "      <td>10.744817</td>\n",
       "      <td>10.337422</td>\n",
       "      <td>10.124109</td>\n",
       "      <td>10.05255</td>\n",
       "      <td>15.806896</td>\n",
       "      <td>10.758614</td>\n",
       "      <td>10.856813</td>\n",
       "      <td>12.242764</td>\n",
       "      <td>9.870705</td>\n",
       "      <td>...</td>\n",
       "      <td>9.69183</td>\n",
       "      <td>9.519405</td>\n",
       "      <td>9.746811</td>\n",
       "      <td>10.8977</td>\n",
       "      <td>10.133284</td>\n",
       "      <td>10.759177</td>\n",
       "      <td>10.02617</td>\n",
       "      <td>10.59754</td>\n",
       "      <td>13.052005</td>\n",
       "      <td>9.558318</td>\n",
       "    </tr>\n",
       "    <tr>\n",
       "      <th>2009Q3</th>\n",
       "      <td>10.804553</td>\n",
       "      <td>10.218431</td>\n",
       "      <td>10.45896</td>\n",
       "      <td>12.248708</td>\n",
       "      <td>16.307551</td>\n",
       "      <td>10.402161</td>\n",
       "      <td>9.697155</td>\n",
       "      <td>10.040752</td>\n",
       "      <td>9.778909</td>\n",
       "      <td>10.247334</td>\n",
       "      <td>...</td>\n",
       "      <td>10.138163</td>\n",
       "      <td>18.402344</td>\n",
       "      <td>13.324724</td>\n",
       "      <td>9.884616</td>\n",
       "      <td>10.794514</td>\n",
       "      <td>9.664574</td>\n",
       "      <td>9.675228</td>\n",
       "      <td>10.720762</td>\n",
       "      <td>10.32244</td>\n",
       "      <td>9.853113</td>\n",
       "    </tr>\n",
       "    <tr>\n",
       "      <th>2009Q4</th>\n",
       "      <td>19.22721</td>\n",
       "      <td>16.672035</td>\n",
       "      <td>10.54456</td>\n",
       "      <td>10.857246</td>\n",
       "      <td>19.650731</td>\n",
       "      <td>10.73792</td>\n",
       "      <td>16.056439</td>\n",
       "      <td>14.614138</td>\n",
       "      <td>12.645204</td>\n",
       "      <td>12.473046</td>\n",
       "      <td>...</td>\n",
       "      <td>19.616108</td>\n",
       "      <td>10.608005</td>\n",
       "      <td>14.206798</td>\n",
       "      <td>15.202268</td>\n",
       "      <td>10.106818</td>\n",
       "      <td>13.709708</td>\n",
       "      <td>10.680092</td>\n",
       "      <td>17.722909</td>\n",
       "      <td>13.451624</td>\n",
       "      <td>11.393482</td>\n",
       "    </tr>\n",
       "    <tr>\n",
       "      <th>2010Q1</th>\n",
       "      <td>10.180458</td>\n",
       "      <td>9.878073</td>\n",
       "      <td>9.73497</td>\n",
       "      <td>9.709186</td>\n",
       "      <td>9.613101</td>\n",
       "      <td>9.706195</td>\n",
       "      <td>9.802433</td>\n",
       "      <td>9.875604</td>\n",
       "      <td>9.685579</td>\n",
       "      <td>9.761097</td>\n",
       "      <td>...</td>\n",
       "      <td>9.200514</td>\n",
       "      <td>9.536122</td>\n",
       "      <td>9.618087</td>\n",
       "      <td>9.532638</td>\n",
       "      <td>10.715168</td>\n",
       "      <td>10.601795</td>\n",
       "      <td>10.075879</td>\n",
       "      <td>9.520107</td>\n",
       "      <td>10.165186</td>\n",
       "      <td>9.584829</td>\n",
       "    </tr>\n",
       "    <tr>\n",
       "      <th>2010Q2</th>\n",
       "      <td>10.115604</td>\n",
       "      <td>9.551582</td>\n",
       "      <td>10.211938</td>\n",
       "      <td>9.700359</td>\n",
       "      <td>9.757273</td>\n",
       "      <td>9.010225</td>\n",
       "      <td>9.647653</td>\n",
       "      <td>9.68397</td>\n",
       "      <td>9.189669</td>\n",
       "      <td>9.033603</td>\n",
       "      <td>...</td>\n",
       "      <td>9.568899</td>\n",
       "      <td>9.725522</td>\n",
       "      <td>9.561739</td>\n",
       "      <td>10.744379</td>\n",
       "      <td>9.196993</td>\n",
       "      <td>9.531574</td>\n",
       "      <td>9.034102</td>\n",
       "      <td>9.547359</td>\n",
       "      <td>9.837456</td>\n",
       "      <td>9.272661</td>\n",
       "    </tr>\n",
       "    <tr>\n",
       "      <th>...</th>\n",
       "      <th>...</th>\n",
       "      <td>...</td>\n",
       "      <td>...</td>\n",
       "      <td>...</td>\n",
       "      <td>...</td>\n",
       "      <td>...</td>\n",
       "      <td>...</td>\n",
       "      <td>...</td>\n",
       "      <td>...</td>\n",
       "      <td>...</td>\n",
       "      <td>...</td>\n",
       "      <td>...</td>\n",
       "      <td>...</td>\n",
       "      <td>...</td>\n",
       "      <td>...</td>\n",
       "      <td>...</td>\n",
       "      <td>...</td>\n",
       "      <td>...</td>\n",
       "      <td>...</td>\n",
       "      <td>...</td>\n",
       "      <td>...</td>\n",
       "      <td>...</td>\n",
       "    </tr>\n",
       "    <tr>\n",
       "      <th rowspan=\"5\" valign=\"top\">518</th>\n",
       "      <th>2023Q1</th>\n",
       "      <td>5.741466</td>\n",
       "      <td>6.875587</td>\n",
       "      <td>5.44131</td>\n",
       "      <td>6.352003</td>\n",
       "      <td>5.827214</td>\n",
       "      <td>5.318658</td>\n",
       "      <td>5.558212</td>\n",
       "      <td>6.199698</td>\n",
       "      <td>5.252497</td>\n",
       "      <td>5.050453</td>\n",
       "      <td>...</td>\n",
       "      <td>5.570734</td>\n",
       "      <td>5.177117</td>\n",
       "      <td>5.660806</td>\n",
       "      <td>6.63792</td>\n",
       "      <td>4.685088</td>\n",
       "      <td>4.070693</td>\n",
       "      <td>7.307217</td>\n",
       "      <td>6.096041</td>\n",
       "      <td>6.820979</td>\n",
       "      <td>4.628983</td>\n",
       "    </tr>\n",
       "    <tr>\n",
       "      <th>2023Q2</th>\n",
       "      <td>4.220323</td>\n",
       "      <td>6.074795</td>\n",
       "      <td>5.243102</td>\n",
       "      <td>5.441579</td>\n",
       "      <td>4.050251</td>\n",
       "      <td>4.229661</td>\n",
       "      <td>5.136588</td>\n",
       "      <td>5.501205</td>\n",
       "      <td>6.871835</td>\n",
       "      <td>5.355857</td>\n",
       "      <td>...</td>\n",
       "      <td>5.662003</td>\n",
       "      <td>6.74233</td>\n",
       "      <td>5.647091</td>\n",
       "      <td>4.405082</td>\n",
       "      <td>4.407491</td>\n",
       "      <td>4.899099</td>\n",
       "      <td>4.456426</td>\n",
       "      <td>6.52937</td>\n",
       "      <td>5.319118</td>\n",
       "      <td>5.418957</td>\n",
       "    </tr>\n",
       "    <tr>\n",
       "      <th>2023Q3</th>\n",
       "      <td>4.815637</td>\n",
       "      <td>5.161647</td>\n",
       "      <td>5.193393</td>\n",
       "      <td>5.350674</td>\n",
       "      <td>5.043322</td>\n",
       "      <td>5.180675</td>\n",
       "      <td>5.023679</td>\n",
       "      <td>5.721395</td>\n",
       "      <td>5.892127</td>\n",
       "      <td>5.274698</td>\n",
       "      <td>...</td>\n",
       "      <td>5.108214</td>\n",
       "      <td>5.64061</td>\n",
       "      <td>5.035834</td>\n",
       "      <td>5.532433</td>\n",
       "      <td>5.700932</td>\n",
       "      <td>6.837837</td>\n",
       "      <td>6.39337</td>\n",
       "      <td>5.122193</td>\n",
       "      <td>4.158942</td>\n",
       "      <td>6.412353</td>\n",
       "    </tr>\n",
       "    <tr>\n",
       "      <th>2023Q4</th>\n",
       "      <td>5.704593</td>\n",
       "      <td>6.395306</td>\n",
       "      <td>6.340422</td>\n",
       "      <td>5.812348</td>\n",
       "      <td>5.075979</td>\n",
       "      <td>5.810856</td>\n",
       "      <td>5.055513</td>\n",
       "      <td>5.333208</td>\n",
       "      <td>6.430118</td>\n",
       "      <td>5.302838</td>\n",
       "      <td>...</td>\n",
       "      <td>5.204979</td>\n",
       "      <td>5.832563</td>\n",
       "      <td>6.130743</td>\n",
       "      <td>4.530329</td>\n",
       "      <td>5.822689</td>\n",
       "      <td>5.322187</td>\n",
       "      <td>5.7405</td>\n",
       "      <td>5.865344</td>\n",
       "      <td>5.137297</td>\n",
       "      <td>5.683325</td>\n",
       "    </tr>\n",
       "    <tr>\n",
       "      <th>2024Q1</th>\n",
       "      <td>4.517088</td>\n",
       "      <td>6.608048</td>\n",
       "      <td>4.501364</td>\n",
       "      <td>6.120307</td>\n",
       "      <td>6.433274</td>\n",
       "      <td>5.561253</td>\n",
       "      <td>5.529883</td>\n",
       "      <td>5.624197</td>\n",
       "      <td>5.897633</td>\n",
       "      <td>6.791664</td>\n",
       "      <td>...</td>\n",
       "      <td>5.80789</td>\n",
       "      <td>6.626099</td>\n",
       "      <td>5.312805</td>\n",
       "      <td>5.540099</td>\n",
       "      <td>5.19293</td>\n",
       "      <td>6.064713</td>\n",
       "      <td>5.88874</td>\n",
       "      <td>5.503061</td>\n",
       "      <td>5.740036</td>\n",
       "      <td>4.033333</td>\n",
       "    </tr>\n",
       "  </tbody>\n",
       "</table>\n",
       "<p>179 rows × 10000 columns</p>\n",
       "</div>"
      ],
      "text/plain": [
       "                 0          1          2          3          4          5     \\\n",
       "549 2009Q2  10.075663  10.744817  10.337422  10.124109   10.05255  15.806896   \n",
       "    2009Q3  10.804553  10.218431   10.45896  12.248708  16.307551  10.402161   \n",
       "    2009Q4   19.22721  16.672035   10.54456  10.857246  19.650731   10.73792   \n",
       "    2010Q1  10.180458   9.878073    9.73497   9.709186   9.613101   9.706195   \n",
       "    2010Q2  10.115604   9.551582  10.211938   9.700359   9.757273   9.010225   \n",
       "...               ...        ...        ...        ...        ...        ...   \n",
       "518 2023Q1   5.741466   6.875587    5.44131   6.352003   5.827214   5.318658   \n",
       "    2023Q2   4.220323   6.074795   5.243102   5.441579   4.050251   4.229661   \n",
       "    2023Q3   4.815637   5.161647   5.193393   5.350674   5.043322   5.180675   \n",
       "    2023Q4   5.704593   6.395306   6.340422   5.812348   5.075979   5.810856   \n",
       "    2024Q1   4.517088   6.608048   4.501364   6.120307   6.433274   5.561253   \n",
       "\n",
       "                 6          7          8          9     ...       9990  \\\n",
       "549 2009Q2  10.758614  10.856813  12.242764   9.870705  ...    9.69183   \n",
       "    2009Q3   9.697155  10.040752   9.778909  10.247334  ...  10.138163   \n",
       "    2009Q4  16.056439  14.614138  12.645204  12.473046  ...  19.616108   \n",
       "    2010Q1   9.802433   9.875604   9.685579   9.761097  ...   9.200514   \n",
       "    2010Q2   9.647653    9.68397   9.189669   9.033603  ...   9.568899   \n",
       "...               ...        ...        ...        ...  ...        ...   \n",
       "518 2023Q1   5.558212   6.199698   5.252497   5.050453  ...   5.570734   \n",
       "    2023Q2   5.136588   5.501205   6.871835   5.355857  ...   5.662003   \n",
       "    2023Q3   5.023679   5.721395   5.892127   5.274698  ...   5.108214   \n",
       "    2023Q4   5.055513   5.333208   6.430118   5.302838  ...   5.204979   \n",
       "    2024Q1   5.529883   5.624197   5.897633   6.791664  ...    5.80789   \n",
       "\n",
       "                 9991       9992       9993       9994       9995       9996  \\\n",
       "549 2009Q2   9.519405   9.746811    10.8977  10.133284  10.759177   10.02617   \n",
       "    2009Q3  18.402344  13.324724   9.884616  10.794514   9.664574   9.675228   \n",
       "    2009Q4  10.608005  14.206798  15.202268  10.106818  13.709708  10.680092   \n",
       "    2010Q1   9.536122   9.618087   9.532638  10.715168  10.601795  10.075879   \n",
       "    2010Q2   9.725522   9.561739  10.744379   9.196993   9.531574   9.034102   \n",
       "...               ...        ...        ...        ...        ...        ...   \n",
       "518 2023Q1   5.177117   5.660806    6.63792   4.685088   4.070693   7.307217   \n",
       "    2023Q2    6.74233   5.647091   4.405082   4.407491   4.899099   4.456426   \n",
       "    2023Q3    5.64061   5.035834   5.532433   5.700932   6.837837    6.39337   \n",
       "    2023Q4   5.832563   6.130743   4.530329   5.822689   5.322187     5.7405   \n",
       "    2024Q1   6.626099   5.312805   5.540099    5.19293   6.064713    5.88874   \n",
       "\n",
       "                 9997       9998       9999  \n",
       "549 2009Q2   10.59754  13.052005   9.558318  \n",
       "    2009Q3  10.720762   10.32244   9.853113  \n",
       "    2009Q4  17.722909  13.451624  11.393482  \n",
       "    2010Q1   9.520107  10.165186   9.584829  \n",
       "    2010Q2   9.547359   9.837456   9.272661  \n",
       "...               ...        ...        ...  \n",
       "518 2023Q1   6.096041   6.820979   4.628983  \n",
       "    2023Q2    6.52937   5.319118   5.418957  \n",
       "    2023Q3   5.122193   4.158942   6.412353  \n",
       "    2023Q4   5.865344   5.137297   5.683325  \n",
       "    2024Q1   5.503061   5.740036   4.033333  \n",
       "\n",
       "[179 rows x 10000 columns]"
      ]
     },
     "execution_count": 460,
     "metadata": {},
     "output_type": "execute_result"
    }
   ],
   "source": [
    "sampled_data_df = pd.DataFrame(sampled_data).T #make the index not columns \n",
    "sampled_data_df"
   ]
  },
  {
   "cell_type": "markdown",
   "id": "844b0107",
   "metadata": {},
   "source": [
    "## Working With Actual Unemployment Data\n"
   ]
  },
  {
   "cell_type": "code",
   "execution_count": 461,
   "id": "0c1ef0be",
   "metadata": {},
   "outputs": [],
   "source": [
    "Unemployment = pd.read_excel('UNRATE-2.xls')"
   ]
  },
  {
   "cell_type": "code",
   "execution_count": 462,
   "id": "cd186c4b",
   "metadata": {},
   "outputs": [
    {
     "data": {
      "text/html": [
       "<div>\n",
       "<style scoped>\n",
       "    .dataframe tbody tr th:only-of-type {\n",
       "        vertical-align: middle;\n",
       "    }\n",
       "\n",
       "    .dataframe tbody tr th {\n",
       "        vertical-align: top;\n",
       "    }\n",
       "\n",
       "    .dataframe thead th {\n",
       "        text-align: right;\n",
       "    }\n",
       "</style>\n",
       "<table border=\"1\" class=\"dataframe\">\n",
       "  <thead>\n",
       "    <tr style=\"text-align: right;\">\n",
       "      <th></th>\n",
       "      <th>UNRATE</th>\n",
       "    </tr>\n",
       "    <tr>\n",
       "      <th>observation_date</th>\n",
       "      <th></th>\n",
       "    </tr>\n",
       "  </thead>\n",
       "  <tbody>\n",
       "    <tr>\n",
       "      <th>1948</th>\n",
       "      <td>3.4</td>\n",
       "    </tr>\n",
       "    <tr>\n",
       "      <th>1948</th>\n",
       "      <td>3.8</td>\n",
       "    </tr>\n",
       "    <tr>\n",
       "      <th>1948</th>\n",
       "      <td>4.0</td>\n",
       "    </tr>\n",
       "    <tr>\n",
       "      <th>1948</th>\n",
       "      <td>3.9</td>\n",
       "    </tr>\n",
       "    <tr>\n",
       "      <th>1948</th>\n",
       "      <td>3.5</td>\n",
       "    </tr>\n",
       "    <tr>\n",
       "      <th>...</th>\n",
       "      <td>...</td>\n",
       "    </tr>\n",
       "    <tr>\n",
       "      <th>2023</th>\n",
       "      <td>3.7</td>\n",
       "    </tr>\n",
       "    <tr>\n",
       "      <th>2023</th>\n",
       "      <td>3.7</td>\n",
       "    </tr>\n",
       "    <tr>\n",
       "      <th>2024</th>\n",
       "      <td>3.7</td>\n",
       "    </tr>\n",
       "    <tr>\n",
       "      <th>2024</th>\n",
       "      <td>3.9</td>\n",
       "    </tr>\n",
       "    <tr>\n",
       "      <th>2024</th>\n",
       "      <td>3.8</td>\n",
       "    </tr>\n",
       "  </tbody>\n",
       "</table>\n",
       "<p>915 rows × 1 columns</p>\n",
       "</div>"
      ],
      "text/plain": [
       "                  UNRATE\n",
       "observation_date        \n",
       "1948                 3.4\n",
       "1948                 3.8\n",
       "1948                 4.0\n",
       "1948                 3.9\n",
       "1948                 3.5\n",
       "...                  ...\n",
       "2023                 3.7\n",
       "2023                 3.7\n",
       "2024                 3.7\n",
       "2024                 3.9\n",
       "2024                 3.8\n",
       "\n",
       "[915 rows x 1 columns]"
      ]
     },
     "execution_count": 462,
     "metadata": {},
     "output_type": "execute_result"
    }
   ],
   "source": [
    "# changing the Observation date to a DateTime index \n",
    "\n",
    "Unemployment['observation_date'] = pd.to_datetime(Unemployment['observation_date'])\n",
    "Unemployment['observation_date'] = Unemployment['observation_date'].dt.to_period('Y')\n",
    "Unemployment.set_index('observation_date', inplace = True)\n",
    "Unemployment\n"
   ]
  },
  {
   "cell_type": "code",
   "execution_count": 463,
   "id": "75173f87",
   "metadata": {},
   "outputs": [
    {
     "data": {
      "text/html": [
       "<div>\n",
       "<style scoped>\n",
       "    .dataframe tbody tr th:only-of-type {\n",
       "        vertical-align: middle;\n",
       "    }\n",
       "\n",
       "    .dataframe tbody tr th {\n",
       "        vertical-align: top;\n",
       "    }\n",
       "\n",
       "    .dataframe thead th {\n",
       "        text-align: right;\n",
       "    }\n",
       "</style>\n",
       "<table border=\"1\" class=\"dataframe\">\n",
       "  <thead>\n",
       "    <tr style=\"text-align: right;\">\n",
       "      <th></th>\n",
       "      <th>Observed Unemployment</th>\n",
       "    </tr>\n",
       "    <tr>\n",
       "      <th>observation_date</th>\n",
       "      <th></th>\n",
       "    </tr>\n",
       "  </thead>\n",
       "  <tbody>\n",
       "    <tr>\n",
       "      <th>2009</th>\n",
       "      <td>9.283333</td>\n",
       "    </tr>\n",
       "    <tr>\n",
       "      <th>2010</th>\n",
       "      <td>9.608333</td>\n",
       "    </tr>\n",
       "    <tr>\n",
       "      <th>2011</th>\n",
       "      <td>8.933333</td>\n",
       "    </tr>\n",
       "    <tr>\n",
       "      <th>2012</th>\n",
       "      <td>8.075000</td>\n",
       "    </tr>\n",
       "    <tr>\n",
       "      <th>2013</th>\n",
       "      <td>7.358333</td>\n",
       "    </tr>\n",
       "  </tbody>\n",
       "</table>\n",
       "</div>"
      ],
      "text/plain": [
       "                  Observed Unemployment\n",
       "observation_date                       \n",
       "2009                           9.283333\n",
       "2010                           9.608333\n",
       "2011                           8.933333\n",
       "2012                           8.075000\n",
       "2013                           7.358333"
      ]
     },
     "execution_count": 463,
     "metadata": {},
     "output_type": "execute_result"
    }
   ],
   "source": [
    "Annual_Unemployment = Unemployment.groupby(Unemployment.index).mean() #Groups by the unemployment dataframe index for each mean\n",
    "\n",
    "Annual_Unemployment = Annual_Unemployment.rename(columns={'UNRATE': 'Observed Unemployment'}) #changing name \n",
    "Annual_Unemployment = Annual_Unemployment[Annual_Unemployment.index >= '2009'] #only keep 2009 and after \n",
    "Annual_Unemployment.head()"
   ]
  },
  {
   "cell_type": "code",
   "execution_count": 464,
   "id": "b61f3f2f",
   "metadata": {
    "scrolled": true
   },
   "outputs": [
    {
     "data": {
      "text/html": [
       "<div>\n",
       "<style scoped>\n",
       "    .dataframe tbody tr th:only-of-type {\n",
       "        vertical-align: middle;\n",
       "    }\n",
       "\n",
       "    .dataframe tbody tr th {\n",
       "        vertical-align: top;\n",
       "    }\n",
       "\n",
       "    .dataframe thead th {\n",
       "        text-align: right;\n",
       "    }\n",
       "</style>\n",
       "<table border=\"1\" class=\"dataframe\">\n",
       "  <thead>\n",
       "    <tr style=\"text-align: right;\">\n",
       "      <th></th>\n",
       "      <th>Observed Unemployment</th>\n",
       "    </tr>\n",
       "    <tr>\n",
       "      <th>observation_date</th>\n",
       "      <th></th>\n",
       "    </tr>\n",
       "  </thead>\n",
       "  <tbody>\n",
       "    <tr>\n",
       "      <th>2009Q2</th>\n",
       "      <td>9.283333</td>\n",
       "    </tr>\n",
       "    <tr>\n",
       "      <th>2009Q3</th>\n",
       "      <td>9.283333</td>\n",
       "    </tr>\n",
       "    <tr>\n",
       "      <th>2009Q4</th>\n",
       "      <td>9.283333</td>\n",
       "    </tr>\n",
       "    <tr>\n",
       "      <th>2010Q1</th>\n",
       "      <td>9.608333</td>\n",
       "    </tr>\n",
       "    <tr>\n",
       "      <th>2010Q2</th>\n",
       "      <td>9.608333</td>\n",
       "    </tr>\n",
       "  </tbody>\n",
       "</table>\n",
       "</div>"
      ],
      "text/plain": [
       "                  Observed Unemployment\n",
       "observation_date                       \n",
       "2009Q2                         9.283333\n",
       "2009Q3                         9.283333\n",
       "2009Q4                         9.283333\n",
       "2010Q1                         9.608333\n",
       "2010Q2                         9.608333"
      ]
     },
     "execution_count": 464,
     "metadata": {},
     "output_type": "execute_result"
    }
   ],
   "source": [
    "Annual_Unemployment = Annual_Unemployment.resample('Q').ffill() #fills the values so that the yearly data average makes\n",
    "#sense for the obeservation date quarterly \n",
    "\n",
    "Annual_Unemployment = Annual_Unemployment['2009Q2':]#only starts from quarter 2 in 20009 \n",
    "Annual_Unemployment.head()"
   ]
  },
  {
   "cell_type": "code",
   "execution_count": 465,
   "id": "d3269c29",
   "metadata": {},
   "outputs": [
    {
     "data": {
      "text/plain": [
       "(array([16.,  4.,  0.,  4.,  0.,  0.,  4.,  0.,  8.,  0.,  0.,  0.,  4.,\n",
       "         0.,  0.,  0.,  0.,  0.,  4.,  0.,  0.,  0.,  8.,  0.,  0.,  0.,\n",
       "         4.,  0.,  3.,  4.]),\n",
       " array([3.625     , 3.82444444, 4.02388889, 4.22333333, 4.42277778,\n",
       "        4.62222222, 4.82166667, 5.02111111, 5.22055556, 5.42      ,\n",
       "        5.61944444, 5.81888889, 6.01833333, 6.21777778, 6.41722222,\n",
       "        6.61666667, 6.81611111, 7.01555556, 7.215     , 7.41444444,\n",
       "        7.61388889, 7.81333333, 8.01277778, 8.21222222, 8.41166667,\n",
       "        8.61111111, 8.81055556, 9.01      , 9.20944444, 9.40888889,\n",
       "        9.60833333]),\n",
       " <BarContainer object of 30 artists>)"
      ]
     },
     "execution_count": 465,
     "metadata": {},
     "output_type": "execute_result"
    },
    {
     "data": {
      "image/png": "[encoded data removed]",
      "text/plain": [
       "<Figure size 432x288 with 1 Axes>"
      ]
     },
     "metadata": {},
     "output_type": "display_data"
    }
   ],
   "source": [
    "plt.hist(Annual_Unemployment, bins = 30) #visualziation of the unemployment rate over the period. Somewhat normally distributed"
   ]
  },
  {
   "cell_type": "markdown",
   "id": "c802098d",
   "metadata": {},
   "source": [
    "This gives us an idea of how the annual unemployment rate has been distributed across time\n",
    "\n",
    "# Determing Rationality: Are Forecasters Rational?\n",
    "\n",
    "# Method 1\n",
    "### _Calculate P-values based on number of values in the distribution which are less than or greater than the actual unemployment value_\n"
   ]
  },
  {
   "cell_type": "code",
   "execution_count": 466,
   "id": "2bf3fcbe",
   "metadata": {},
   "outputs": [
    {
     "data": {
      "text/html": [
       "<div>\n",
       "<style scoped>\n",
       "    .dataframe tbody tr th:only-of-type {\n",
       "        vertical-align: middle;\n",
       "    }\n",
       "\n",
       "    .dataframe tbody tr th {\n",
       "        vertical-align: top;\n",
       "    }\n",
       "\n",
       "    .dataframe thead th {\n",
       "        text-align: right;\n",
       "    }\n",
       "</style>\n",
       "<table border=\"1\" class=\"dataframe\">\n",
       "  <thead>\n",
       "    <tr style=\"text-align: right;\">\n",
       "      <th></th>\n",
       "      <th></th>\n",
       "      <th>P-Value</th>\n",
       "    </tr>\n",
       "  </thead>\n",
       "  <tbody>\n",
       "    <tr>\n",
       "      <th rowspan=\"5\" valign=\"top\">549</th>\n",
       "      <th>2009Q2</th>\n",
       "      <td>0.0</td>\n",
       "    </tr>\n",
       "    <tr>\n",
       "      <th>2009Q3</th>\n",
       "      <td>0.0</td>\n",
       "    </tr>\n",
       "    <tr>\n",
       "      <th>2009Q4</th>\n",
       "      <td>0.0</td>\n",
       "    </tr>\n",
       "    <tr>\n",
       "      <th>2010Q1</th>\n",
       "      <td>0.5094</td>\n",
       "    </tr>\n",
       "    <tr>\n",
       "      <th>2010Q2</th>\n",
       "      <td>0.7252</td>\n",
       "    </tr>\n",
       "    <tr>\n",
       "      <th>...</th>\n",
       "      <th>...</th>\n",
       "      <td>...</td>\n",
       "    </tr>\n",
       "    <tr>\n",
       "      <th rowspan=\"5\" valign=\"top\">518</th>\n",
       "      <th>2023Q1</th>\n",
       "      <td>0.0</td>\n",
       "    </tr>\n",
       "    <tr>\n",
       "      <th>2023Q2</th>\n",
       "      <td>0.0</td>\n",
       "    </tr>\n",
       "    <tr>\n",
       "      <th>2023Q3</th>\n",
       "      <td>0.0</td>\n",
       "    </tr>\n",
       "    <tr>\n",
       "      <th>2023Q4</th>\n",
       "      <td>0.0</td>\n",
       "    </tr>\n",
       "    <tr>\n",
       "      <th>2024Q1</th>\n",
       "      <td>0.0</td>\n",
       "    </tr>\n",
       "  </tbody>\n",
       "</table>\n",
       "<p>179 rows × 1 columns</p>\n",
       "</div>"
      ],
      "text/plain": [
       "           P-Value\n",
       "549 2009Q2     0.0\n",
       "    2009Q3     0.0\n",
       "    2009Q4     0.0\n",
       "    2010Q1  0.5094\n",
       "    2010Q2  0.7252\n",
       "...            ...\n",
       "518 2023Q1     0.0\n",
       "    2023Q2     0.0\n",
       "    2023Q3     0.0\n",
       "    2023Q4     0.0\n",
       "    2024Q1     0.0\n",
       "\n",
       "[179 rows x 1 columns]"
      ]
     },
     "execution_count": 466,
     "metadata": {},
     "output_type": "execute_result"
    }
   ],
   "source": [
    "M1_p_values_df = pd.DataFrame(index=sampled_data_df.index, columns=['P-Value'])#creates the Pvalue that we will start to work with \n",
    "\n",
    "# Iterate over each ID and period in the transposed sampled data\n",
    "for (id, period), samples in sampled_data_df.iterrows(): #will loop through all the IDs and periods which caintian sampled data \n",
    "    if period in Annual_Unemployment.index: \n",
    "        #will only work if the time is in the Annual Unemployment period index, just to make sure the rows and columns allign correctly \n",
    "        mean_unemployment = Annual_Unemployment.loc[period, 'Observed Unemployment']\n",
    "        \n",
    "        # Calculate the two-sided p-value\n",
    "        less_equal = np.mean(samples <= mean_unemployment) #finds sample values less than observed\n",
    "        greater_equal = np.mean(samples >= mean_unemployment) #finds sample values greater than the observed unemployment \n",
    "        \n",
    "        #calculates the 2 sided p value of the value \n",
    "        p_value = 2 * min(less_equal, greater_equal) \n",
    "        #depending on whether the value is extreme as a minimum or maximum, and then multiplies it by two since its two-sided\n",
    "        \n",
    "        M1_p_values_df.loc[(id, period), 'P-Value'] = p_value #adds the Pvalue to our method 1 datagrame \n",
    "\n",
    "M1_p_values_df"
   ]
  },
  {
   "cell_type": "markdown",
   "id": "830b6f24",
   "metadata": {},
   "source": [
    "#### There are so many 0.0 p-values, because some forecasters gave a 0% probability of the observed unemployment rate occuring during a period.\n",
    "\n",
    "## Visualizing Method 1 P-values\n"
   ]
  },
  {
   "cell_type": "code",
   "execution_count": 487,
   "id": "66e3c2ba",
   "metadata": {
    "scrolled": false
   },
   "outputs": [
    {
     "data": {
      "image/png": "[encoded data removed]",
      "text/plain": [
       "<Figure size 720x432 with 1 Axes>"
      ]
     },
     "metadata": {},
     "output_type": "display_data"
    },
    {
     "data": {
      "image/png": "[encoded data removed]",
      "text/plain": [
       "<Figure size 720x432 with 1 Axes>"
      ]
     },
     "metadata": {},
     "output_type": "display_data"
    },
    {
     "data": {
      "image/png": "[encoded data removed]",
      "text/plain": [
       "<Figure size 720x432 with 1 Axes>"
      ]
     },
     "metadata": {},
     "output_type": "display_data"
    }
   ],
   "source": [
    "for id, data in m1_p_values_df.groupby(level=0):#for every ID and its data it groups and ptos \n",
    "    \n",
    "    #Each graph is the p_value of the ID in the dataframe \n",
    "    plt.figure(figsize=(10, 6))\n",
    "    sns.histplot(group['P-Value'], bins=10, kde=True, stat='density', color='orange', line_kws={ 'label ' : 'KDE'})\n",
    "    \n",
    "    plt.title(f'P-Value Distribution with KDE for ID {id}', fontsize = 25) #\n",
    "    plt.xlabel('P-Value')\n",
    "    plt.ylabel('Density')\n",
    "    plt.legend()\n",
    "    plt.show()"
   ]
  },
  {
   "cell_type": "markdown",
   "id": "009af194",
   "metadata": {},
   "source": [
    "We can see that the distributions of the P-values is realtively the same for the 3 IDs we are analyzing.\n",
    "\n",
    "### Overall distribiton of P-values for all the IDs\n"
   ]
  },
  {
   "cell_type": "code",
   "execution_count": 468,
   "id": "1b17925b",
   "metadata": {},
   "outputs": [
    {
     "data": {
      "image/png": "[encoded data removed]",
      "text/plain": [
       "<Figure size 1080x576 with 1 Axes>"
      ]
     },
     "metadata": {},
     "output_type": "display_data"
    }
   ],
   "source": [
    "plt.figure(figsize=(15, 8))\n",
    "colors = ['blue', 'purple', 'red']  #Different colors for each ID plotted\n",
    "for i, (id, group) in enumerate(p_values_df.groupby(level=0)): #multi index so level needs specification \n",
    "    \n",
    "    # Plot histogram with kernel density estimate for each ID\n",
    "    sns.histplot(group['P-Value'], bins=10, kde=True, color=colors[i],label=f'ID {id}', alpha=0.45, edgecolor='black')\n",
    "\n",
    "plt.title('P-Value Distribution for All 3 IDs', fontsize = 25)\n",
    "\n",
    "plt.xlabel('P-Value')\n",
    "plt.ylabel('Density')\n",
    "plt.legend() #since all are on the saame graph, label which color is which \n",
    "plt.show()"
   ]
  },
  {
   "cell_type": "markdown",
   "id": "d9d85350",
   "metadata": {},
   "source": [
    "### This plot zooms in specifically on the low end of the distribution\n"
   ]
  },
  {
   "cell_type": "code",
   "execution_count": 469,
   "id": "95c244a6",
   "metadata": {
    "scrolled": false
   },
   "outputs": [
    {
     "data": {
      "image/png": "[encoded data removed]",
      "text/plain": [
       "<Figure size 720x576 with 1 Axes>"
      ]
     },
     "metadata": {},
     "output_type": "display_data"
    }
   ],
   "source": [
    "\n",
    "plt.figure(figsize=(10, 8))\n",
    "colors = ['blue', 'purple', 'red']  #colors are kept consistent \n",
    "for i, (id, data) in enumerate(p_values_df.groupby(level=0)): #for each ID it plots the distribution of p values \n",
    "\n",
    "    sns.histplot(data['P-Value'], bins=10, kde=True, color=colors[i], #kde generates the lines to imply distribution  \n",
    "        label=f'ID {id}', alpha=0.45, edgecolor='black')\n",
    "\n",
    "plt.title('P-Value Distribution for All 3 IDs (Low P-value Focus)', fontsize = 25)\n",
    "plt.xlabel('P-Value')\n",
    "plt.ylabel('Density')\n",
    "plt.xlim(0,0.2)\n",
    "plt.legend()\n",
    "plt.show()"
   ]
  },
  {
   "cell_type": "markdown",
   "id": "e761070c",
   "metadata": {},
   "source": [
    "## Analysis\n",
    "\n",
    "For all three of our forecasters (549, 518, and 549), we can see that there are a significant amount of extrordinarily small P-values.\n",
    "The three forecasters themselves have similar distributions. For all three IDs, the distribution of thier p-values was simular to that of a lambda = 1 Poisson distribution. There is a huge amount of p-values close to zero.\n",
    "As far as the differences between the forecasters based on ID, the least egregious forecaster was ID = 510, since their distribution was less Poisson-esque (lower spike of p-values concentrated around 0). Based on the visualizations, forecaster with ID = 518 was the least precise and least accurate forecaster, with the highest concentration of low-p values.\n",
    "The reason that there are so many P-values which come out to zero, is because for a large portion of the forecasts made by the professional forecasters, they only include probabilities for 2-3 intervals. It is not possible for a sample to be drawn which includes a number outside of the intervals provided by the forecasters, for each period. So, if the observed unemployment rate is outside of their interval, the p-value will be zero. Still, this still means that the observed value of unemployment and the value of the unemployment rate implied by the forecasters, is often unaligned.\n",
    "These visualizations serve as evidence to suggest that the forecasteres are not rational, since theier beliefs about the future unemployment level, largely do not coincide with the observed value of annual unemployment. Still, we can learn more about the accuracy of the forecasts by using other methods of analysis. These methods are explored in the next section, 'Method 2'.\n",
    "\n",
    "# Method 2\n",
    "### _Determine whether or not forecasters are rational by looking at the statistical identity and characteristics of thier subjective probability distributions. Additionally, we can see how the mean forecasts and actual unemployment rate coincided over time_\n"
   ]
  },
  {
   "cell_type": "code",
   "execution_count": 470,
   "id": "5b847ef9",
   "metadata": {
    "scrolled": false
   },
   "outputs": [],
   "source": [
    "standardized_sampled_data = []#list to hold the sampled data \n",
    "\n",
    "for key, sample in sampled_data.items(): #Accesses the key values pairs in teh sampled_data dictionary \n",
    "    #Filter out None values\n",
    "    filtered_samples = [x for x in sample if x is not None] #will contain x so long as x has a non None value \n",
    "    # Check if filtered_samples is not empty before calculating statistics\n",
    "    if filtered_samples: #filtered samples contains the values that arent none \n",
    "        mean = np.mean(filtered_samples) #find the mean of each sampling process\n",
    "        std = np.std(filtered_samples) #find the std of each sampling process\n",
    "    else: \n",
    "        \n",
    "        mean = None #if there is no sample value, there isnt a mean\n",
    "        std = None #if there is no sample value, there isnt a sample std\n",
    "        \n",
    "    standardized_sampled_data.append({'ID': key[0], 'Date': key[1], 'Mean': mean, 'Standard Deviation': std})\n",
    "    #creates ID, date, meean and STD for the dictionary and adds them\n",
    "    \n",
    "    \n",
    "standardized_sampled_data_df = pd.DataFrame(standardized_sampled_data)\n",
    "\n",
    "#creates a dataframe of the sampled data with the proper columns to be turned into an index "
   ]
  },
  {
   "cell_type": "code",
   "execution_count": 471,
   "id": "9182768a",
   "metadata": {},
   "outputs": [
    {
     "data": {
      "text/html": [
       "<div>\n",
       "<style scoped>\n",
       "    .dataframe tbody tr th:only-of-type {\n",
       "        vertical-align: middle;\n",
       "    }\n",
       "\n",
       "    .dataframe tbody tr th {\n",
       "        vertical-align: top;\n",
       "    }\n",
       "\n",
       "    .dataframe thead th {\n",
       "        text-align: right;\n",
       "    }\n",
       "</style>\n",
       "<table border=\"1\" class=\"dataframe\">\n",
       "  <thead>\n",
       "    <tr style=\"text-align: right;\">\n",
       "      <th></th>\n",
       "      <th></th>\n",
       "      <th>Mean</th>\n",
       "      <th>Standard Deviation</th>\n",
       "    </tr>\n",
       "    <tr>\n",
       "      <th>ID</th>\n",
       "      <th>Date</th>\n",
       "      <th></th>\n",
       "      <th></th>\n",
       "    </tr>\n",
       "  </thead>\n",
       "  <tbody>\n",
       "    <tr>\n",
       "      <th rowspan=\"5\" valign=\"top\">549</th>\n",
       "      <th>2009Q2</th>\n",
       "      <td>10.962511</td>\n",
       "      <td>2.220601</td>\n",
       "    </tr>\n",
       "    <tr>\n",
       "      <th>2009Q3</th>\n",
       "      <td>10.708957</td>\n",
       "      <td>1.842865</td>\n",
       "    </tr>\n",
       "    <tr>\n",
       "      <th>2009Q4</th>\n",
       "      <td>13.226071</td>\n",
       "      <td>3.184297</td>\n",
       "    </tr>\n",
       "    <tr>\n",
       "      <th>2010Q1</th>\n",
       "      <td>9.903416</td>\n",
       "      <td>0.456226</td>\n",
       "    </tr>\n",
       "    <tr>\n",
       "      <th>2010Q2</th>\n",
       "      <td>9.746539</td>\n",
       "      <td>0.427743</td>\n",
       "    </tr>\n",
       "    <tr>\n",
       "      <th>...</th>\n",
       "      <th>...</th>\n",
       "      <td>...</td>\n",
       "      <td>...</td>\n",
       "    </tr>\n",
       "    <tr>\n",
       "      <th rowspan=\"5\" valign=\"top\">518</th>\n",
       "      <th>2023Q1</th>\n",
       "      <td>5.956810</td>\n",
       "      <td>0.848499</td>\n",
       "    </tr>\n",
       "    <tr>\n",
       "      <th>2023Q2</th>\n",
       "      <td>5.340614</td>\n",
       "      <td>0.598115</td>\n",
       "    </tr>\n",
       "    <tr>\n",
       "      <th>2023Q3</th>\n",
       "      <td>5.353981</td>\n",
       "      <td>0.601906</td>\n",
       "    </tr>\n",
       "    <tr>\n",
       "      <th>2023Q4</th>\n",
       "      <td>5.453993</td>\n",
       "      <td>0.517289</td>\n",
       "    </tr>\n",
       "    <tr>\n",
       "      <th>2024Q1</th>\n",
       "      <td>5.544320</td>\n",
       "      <td>0.596545</td>\n",
       "    </tr>\n",
       "  </tbody>\n",
       "</table>\n",
       "<p>179 rows × 2 columns</p>\n",
       "</div>"
      ],
      "text/plain": [
       "                 Mean  Standard Deviation\n",
       "ID  Date                                 \n",
       "549 2009Q2  10.962511            2.220601\n",
       "    2009Q3  10.708957            1.842865\n",
       "    2009Q4  13.226071            3.184297\n",
       "    2010Q1   9.903416            0.456226\n",
       "    2010Q2   9.746539            0.427743\n",
       "...               ...                 ...\n",
       "518 2023Q1   5.956810            0.848499\n",
       "    2023Q2   5.340614            0.598115\n",
       "    2023Q3   5.353981            0.601906\n",
       "    2023Q4   5.453993            0.517289\n",
       "    2024Q1   5.544320            0.596545\n",
       "\n",
       "[179 rows x 2 columns]"
      ]
     },
     "execution_count": 471,
     "metadata": {},
     "output_type": "execute_result"
    }
   ],
   "source": [
    "standardized_sampled_data_df['Date'] = pd.PeriodIndex(standardized_sampled_data_df['Date'], freq='Q')\n",
    "#makes it a quarterly period index \n",
    "\n",
    "#creating the multi index which we will use to break apart our data for the separate IDs \n",
    "standardized_sampled_data_df.set_index(['ID', 'Date'], inplace=True)\n",
    "standardized_sampled_data_df\n",
    "#shows the mean and STD, along with the multi index \n"
   ]
  },
  {
   "cell_type": "markdown",
   "id": "9391336d",
   "metadata": {},
   "source": [
    "Now we have statistical characteristics of each of the IDs, and all of their forecasts. We can compare the mean of each forecast with the observed value, to determine a z-score for every period and ID. We can break down the DataFrame by ID, and add the observed unemployment rate to do analysis.\n",
    "\n",
    "### Forecaster 549\n"
   ]
  },
  {
   "cell_type": "code",
   "execution_count": 472,
   "id": "ac1d804e",
   "metadata": {},
   "outputs": [
    {
     "data": {
      "text/html": [
       "<div>\n",
       "<style scoped>\n",
       "    .dataframe tbody tr th:only-of-type {\n",
       "        vertical-align: middle;\n",
       "    }\n",
       "\n",
       "    .dataframe tbody tr th {\n",
       "        vertical-align: top;\n",
       "    }\n",
       "\n",
       "    .dataframe thead th {\n",
       "        text-align: right;\n",
       "    }\n",
       "</style>\n",
       "<table border=\"1\" class=\"dataframe\">\n",
       "  <thead>\n",
       "    <tr style=\"text-align: right;\">\n",
       "      <th></th>\n",
       "      <th>Mean</th>\n",
       "      <th>Standard Deviation</th>\n",
       "      <th>Observed Unemployment</th>\n",
       "      <th>Z-score</th>\n",
       "      <th>P-value</th>\n",
       "    </tr>\n",
       "    <tr>\n",
       "      <th>Date</th>\n",
       "      <th></th>\n",
       "      <th></th>\n",
       "      <th></th>\n",
       "      <th></th>\n",
       "      <th></th>\n",
       "    </tr>\n",
       "  </thead>\n",
       "  <tbody>\n",
       "    <tr>\n",
       "      <th>2009Q2</th>\n",
       "      <td>10.962511</td>\n",
       "      <td>2.220601</td>\n",
       "      <td>9.283333</td>\n",
       "      <td>-0.756181</td>\n",
       "      <td>0.449540</td>\n",
       "    </tr>\n",
       "    <tr>\n",
       "      <th>2009Q3</th>\n",
       "      <td>10.708957</td>\n",
       "      <td>1.842865</td>\n",
       "      <td>9.283333</td>\n",
       "      <td>-0.773591</td>\n",
       "      <td>0.439173</td>\n",
       "    </tr>\n",
       "    <tr>\n",
       "      <th>2009Q4</th>\n",
       "      <td>13.226071</td>\n",
       "      <td>3.184297</td>\n",
       "      <td>9.283333</td>\n",
       "      <td>-1.238182</td>\n",
       "      <td>0.215649</td>\n",
       "    </tr>\n",
       "    <tr>\n",
       "      <th>2010Q1</th>\n",
       "      <td>9.903416</td>\n",
       "      <td>0.456226</td>\n",
       "      <td>9.608333</td>\n",
       "      <td>-0.646790</td>\n",
       "      <td>0.517768</td>\n",
       "    </tr>\n",
       "    <tr>\n",
       "      <th>2010Q2</th>\n",
       "      <td>9.746539</td>\n",
       "      <td>0.427743</td>\n",
       "      <td>9.608333</td>\n",
       "      <td>-0.323104</td>\n",
       "      <td>0.746617</td>\n",
       "    </tr>\n",
       "  </tbody>\n",
       "</table>\n",
       "</div>"
      ],
      "text/plain": [
       "             Mean  Standard Deviation  Observed Unemployment   Z-score  \\\n",
       "Date                                                                     \n",
       "2009Q2  10.962511            2.220601               9.283333 -0.756181   \n",
       "2009Q3  10.708957            1.842865               9.283333 -0.773591   \n",
       "2009Q4  13.226071            3.184297               9.283333 -1.238182   \n",
       "2010Q1   9.903416            0.456226               9.608333 -0.646790   \n",
       "2010Q2   9.746539            0.427743               9.608333 -0.323104   \n",
       "\n",
       "         P-value  \n",
       "Date              \n",
       "2009Q2  0.449540  \n",
       "2009Q3  0.439173  \n",
       "2009Q4  0.215649  \n",
       "2010Q1  0.517768  \n",
       "2010Q2  0.746617  "
      ]
     },
     "execution_count": 472,
     "metadata": {},
     "output_type": "execute_result"
    }
   ],
   "source": [
    "sampled_549 = standardized_sampled_data_df.xs(549.0, level='ID') #level = ID because of multi-indexing \n",
    "#separates the 549 ID from the full sampled data \n",
    "Analysis_549 = sampled_549.join(Annual_Unemployment, how = 'left')\n",
    "#adds Annual Unemployment to the dataframe \n",
    "\n",
    "Analysis_549['Z-score'] = (Analysis_549['Observed Unemployment'] - Analysis_549['Mean'])/Analysis_549['Standard Deviation']\n",
    "#computes and adds Z-score to the data frame for each period \n",
    "\n",
    "Analysis_549['P-value'] = 2*(1- norm.cdf(np.abs(Analysis_549['Z-score']))) #determines the PValue from the stats importaiton \n",
    "#computes and adds p-value to the dataframe for each period \n",
    "\n",
    "Analysis_549.head()\n",
    "\n",
    "#use this process for all of our forecasters \n"
   ]
  },
  {
   "cell_type": "markdown",
   "id": "144de162",
   "metadata": {},
   "source": [
    "Now, for Forecaster 549, we have charactersitics about the accuracy of the forecasts made. The higher the p-value, the more accurate, and the closer the Z-score to 0, the more acurate. We now need to repeat this process for the other IDs, such that we have dataframes for each ID with their charactersitics.\n"
   ]
  },
  {
   "cell_type": "code",
   "execution_count": 473,
   "id": "a8b5421c",
   "metadata": {},
   "outputs": [],
   "source": [
    "#defining a function to plot the columns of a dataframe \n",
    "\n",
    "def plot_column(Data, column, Data_name ,color = 'blue' ):\n",
    "    sns.histplot(Data[column], bins=30, kde=True, color = color) #KDE to estimate trend\n",
    "    plt.title(f'{Data_name}: Distribution of {column}s', color = 'black', fontsize = 15)\n",
    "    plt.xlabel(column)\n",
    "    plt.ylabel('Frequency')\n",
    "    plt.show()\n",
    "    "
   ]
  },
  {
   "cell_type": "markdown",
   "id": "a8055904",
   "metadata": {},
   "source": [
    "#### plots\n"
   ]
  },
  {
   "cell_type": "code",
   "execution_count": 474,
   "id": "6aad4b0b",
   "metadata": {},
   "outputs": [
    {
     "data": {
      "image/png": "[encoded data removed]",
      "text/plain": [
       "<Figure size 432x288 with 1 Axes>"
      ]
     },
     "metadata": {},
     "output_type": "display_data"
    }
   ],
   "source": [
    "plot_column(Analysis_549, 'P-value', 'Forecaster 549', 'red')"
   ]
  },
  {
   "cell_type": "code",
   "execution_count": 475,
   "id": "bfdb5c1a",
   "metadata": {},
   "outputs": [
    {
     "data": {
      "image/png": "[encoded data removed]",
      "text/plain": [
       "<Figure size 432x288 with 1 Axes>"
      ]
     },
     "metadata": {},
     "output_type": "display_data"
    }
   ],
   "source": [
    "plot_column(Analysis_549, 'Z-score', 'Forecaster 549', 'red')"
   ]
  },
  {
   "cell_type": "markdown",
   "id": "684bb368",
   "metadata": {},
   "source": [
    "### Forecaster 518\n"
   ]
  },
  {
   "cell_type": "code",
   "execution_count": 476,
   "id": "8e389589",
   "metadata": {},
   "outputs": [
    {
     "data": {
      "text/html": [
       "<div>\n",
       "<style scoped>\n",
       "    .dataframe tbody tr th:only-of-type {\n",
       "        vertical-align: middle;\n",
       "    }\n",
       "\n",
       "    .dataframe tbody tr th {\n",
       "        vertical-align: top;\n",
       "    }\n",
       "\n",
       "    .dataframe thead th {\n",
       "        text-align: right;\n",
       "    }\n",
       "</style>\n",
       "<table border=\"1\" class=\"dataframe\">\n",
       "  <thead>\n",
       "    <tr style=\"text-align: right;\">\n",
       "      <th></th>\n",
       "      <th>Mean</th>\n",
       "      <th>Standard Deviation</th>\n",
       "      <th>Observed Unemployment</th>\n",
       "      <th>Z-score</th>\n",
       "      <th>P-value</th>\n",
       "    </tr>\n",
       "    <tr>\n",
       "      <th>Date</th>\n",
       "      <th></th>\n",
       "      <th></th>\n",
       "      <th></th>\n",
       "      <th></th>\n",
       "      <th></th>\n",
       "    </tr>\n",
       "  </thead>\n",
       "  <tbody>\n",
       "    <tr>\n",
       "      <th>2009Q2</th>\n",
       "      <td>13.295714</td>\n",
       "      <td>3.332856</td>\n",
       "      <td>9.283333</td>\n",
       "      <td>-1.203887</td>\n",
       "      <td>0.228633</td>\n",
       "    </tr>\n",
       "    <tr>\n",
       "      <th>2009Q3</th>\n",
       "      <td>13.000648</td>\n",
       "      <td>3.277735</td>\n",
       "      <td>9.283333</td>\n",
       "      <td>-1.134111</td>\n",
       "      <td>0.256748</td>\n",
       "    </tr>\n",
       "    <tr>\n",
       "      <th>2009Q4</th>\n",
       "      <td>13.737104</td>\n",
       "      <td>3.287817</td>\n",
       "      <td>9.283333</td>\n",
       "      <td>-1.354629</td>\n",
       "      <td>0.175536</td>\n",
       "    </tr>\n",
       "    <tr>\n",
       "      <th>2010Q1</th>\n",
       "      <td>10.594543</td>\n",
       "      <td>1.877608</td>\n",
       "      <td>9.608333</td>\n",
       "      <td>-0.525248</td>\n",
       "      <td>0.599411</td>\n",
       "    </tr>\n",
       "    <tr>\n",
       "      <th>2010Q2</th>\n",
       "      <td>10.555076</td>\n",
       "      <td>1.940884</td>\n",
       "      <td>9.608333</td>\n",
       "      <td>-0.487789</td>\n",
       "      <td>0.625699</td>\n",
       "    </tr>\n",
       "  </tbody>\n",
       "</table>\n",
       "</div>"
      ],
      "text/plain": [
       "             Mean  Standard Deviation  Observed Unemployment   Z-score  \\\n",
       "Date                                                                     \n",
       "2009Q2  13.295714            3.332856               9.283333 -1.203887   \n",
       "2009Q3  13.000648            3.277735               9.283333 -1.134111   \n",
       "2009Q4  13.737104            3.287817               9.283333 -1.354629   \n",
       "2010Q1  10.594543            1.877608               9.608333 -0.525248   \n",
       "2010Q2  10.555076            1.940884               9.608333 -0.487789   \n",
       "\n",
       "         P-value  \n",
       "Date              \n",
       "2009Q2  0.228633  \n",
       "2009Q3  0.256748  \n",
       "2009Q4  0.175536  \n",
       "2010Q1  0.599411  \n",
       "2010Q2  0.625699  "
      ]
     },
     "execution_count": 476,
     "metadata": {},
     "output_type": "execute_result"
    }
   ],
   "source": [
    "#notes about how this works are contained in the Forecaster 549 heading \n",
    "#this follows the exact same process \n",
    "\n",
    "sampled_518 = standardized_sampled_data_df.xs(518.0, level='ID')\n",
    "Analysis_518 = sampled_518.join(Annual_Unemployment, how = 'left')\n",
    "Analysis_518['Z-score'] = (Analysis_518['Observed Unemployment'] - Analysis_518['Mean'])/Analysis_518['Standard Deviation']\n",
    "Analysis_518['P-value'] = 2*(1- norm.cdf(np.abs(Analysis_518['Z-score'])))\n",
    "Analysis_518.head()"
   ]
  },
  {
   "cell_type": "markdown",
   "id": "7ab35abb",
   "metadata": {},
   "source": [
    "#### plots\n"
   ]
  },
  {
   "cell_type": "code",
   "execution_count": 477,
   "id": "d09b575a",
   "metadata": {},
   "outputs": [
    {
     "data": {
      "image/png": "[encoded data removed]",
      "text/plain": [
       "<Figure size 432x288 with 1 Axes>"
      ]
     },
     "metadata": {},
     "output_type": "display_data"
    }
   ],
   "source": [
    "plot_column(Analysis_518, 'P-value', 'Forecaster 518', 'purple')"
   ]
  },
  {
   "cell_type": "code",
   "execution_count": 478,
   "id": "878f3886",
   "metadata": {},
   "outputs": [
    {
     "data": {
      "image/png": "[encoded data removed]",
      "text/plain": [
       "<Figure size 432x288 with 1 Axes>"
      ]
     },
     "metadata": {},
     "output_type": "display_data"
    }
   ],
   "source": [
    "plot_column(Analysis_518, 'Z-score', 'Forecaster 518', 'purple')"
   ]
  },
  {
   "cell_type": "markdown",
   "id": "6ef07a68",
   "metadata": {},
   "source": [
    "### Forecaster 510\n"
   ]
  },
  {
   "cell_type": "code",
   "execution_count": 479,
   "id": "f462b441",
   "metadata": {},
   "outputs": [
    {
     "data": {
      "text/html": [
       "<div>\n",
       "<style scoped>\n",
       "    .dataframe tbody tr th:only-of-type {\n",
       "        vertical-align: middle;\n",
       "    }\n",
       "\n",
       "    .dataframe tbody tr th {\n",
       "        vertical-align: top;\n",
       "    }\n",
       "\n",
       "    .dataframe thead th {\n",
       "        text-align: right;\n",
       "    }\n",
       "</style>\n",
       "<table border=\"1\" class=\"dataframe\">\n",
       "  <thead>\n",
       "    <tr style=\"text-align: right;\">\n",
       "      <th></th>\n",
       "      <th>Mean</th>\n",
       "      <th>Standard Deviation</th>\n",
       "      <th>Observed Unemployment</th>\n",
       "      <th>Z-score</th>\n",
       "      <th>P-value</th>\n",
       "    </tr>\n",
       "    <tr>\n",
       "      <th>Date</th>\n",
       "      <th></th>\n",
       "      <th></th>\n",
       "      <th></th>\n",
       "      <th></th>\n",
       "      <th></th>\n",
       "    </tr>\n",
       "  </thead>\n",
       "  <tbody>\n",
       "    <tr>\n",
       "      <th>2009Q2</th>\n",
       "      <td>9.148135</td>\n",
       "      <td>0.295768</td>\n",
       "      <td>9.283333</td>\n",
       "      <td>0.457109</td>\n",
       "      <td>0.647593</td>\n",
       "    </tr>\n",
       "    <tr>\n",
       "      <th>2009Q3</th>\n",
       "      <td>9.901775</td>\n",
       "      <td>0.517399</td>\n",
       "      <td>9.283333</td>\n",
       "      <td>-1.195289</td>\n",
       "      <td>0.231974</td>\n",
       "    </tr>\n",
       "    <tr>\n",
       "      <th>2009Q4</th>\n",
       "      <td>11.242045</td>\n",
       "      <td>2.357724</td>\n",
       "      <td>9.283333</td>\n",
       "      <td>-0.830764</td>\n",
       "      <td>0.406107</td>\n",
       "    </tr>\n",
       "    <tr>\n",
       "      <th>2010Q1</th>\n",
       "      <td>9.194821</td>\n",
       "      <td>0.372140</td>\n",
       "      <td>9.608333</td>\n",
       "      <td>1.111173</td>\n",
       "      <td>0.266494</td>\n",
       "    </tr>\n",
       "    <tr>\n",
       "      <th>2010Q2</th>\n",
       "      <td>9.054835</td>\n",
       "      <td>0.409507</td>\n",
       "      <td>9.608333</td>\n",
       "      <td>1.351622</td>\n",
       "      <td>0.176496</td>\n",
       "    </tr>\n",
       "  </tbody>\n",
       "</table>\n",
       "</div>"
      ],
      "text/plain": [
       "             Mean  Standard Deviation  Observed Unemployment   Z-score  \\\n",
       "Date                                                                     \n",
       "2009Q2   9.148135            0.295768               9.283333  0.457109   \n",
       "2009Q3   9.901775            0.517399               9.283333 -1.195289   \n",
       "2009Q4  11.242045            2.357724               9.283333 -0.830764   \n",
       "2010Q1   9.194821            0.372140               9.608333  1.111173   \n",
       "2010Q2   9.054835            0.409507               9.608333  1.351622   \n",
       "\n",
       "         P-value  \n",
       "Date              \n",
       "2009Q2  0.647593  \n",
       "2009Q3  0.231974  \n",
       "2009Q4  0.406107  \n",
       "2010Q1  0.266494  \n",
       "2010Q2  0.176496  "
      ]
     },
     "execution_count": 479,
     "metadata": {},
     "output_type": "execute_result"
    }
   ],
   "source": [
    "#notes about how this works are contained in the Forecaster 510 heading \n",
    "#this follows the exact same process \n",
    "\n",
    "\n",
    "sampled_510 = standardized_sampled_data_df.xs(510.0, level='ID')\n",
    "\n",
    "Analysis_510 = sampled_510.join(Annual_Unemployment, how = 'left')\n",
    "Analysis_510['Z-score'] = (Analysis_510['Observed Unemployment'] - Analysis_510['Mean'])/Analysis_510['Standard Deviation']\n",
    "Analysis_510['P-value'] = 2*(1- norm.cdf(np.abs(Analysis_510['Z-score'])))\n",
    "Analysis_510.head()"
   ]
  },
  {
   "cell_type": "markdown",
   "id": "fe9d739f",
   "metadata": {},
   "source": [
    "#### plots\n"
   ]
  },
  {
   "cell_type": "code",
   "execution_count": 480,
   "id": "64c18579",
   "metadata": {},
   "outputs": [
    {
     "data": {
      "image/png": "[encoded data removed]",
      "text/plain": [
       "<Figure size 432x288 with 1 Axes>"
      ]
     },
     "metadata": {},
     "output_type": "display_data"
    }
   ],
   "source": [
    "plot_column(Analysis_510, 'P-value', 'Forecaster 510', 'blue')"
   ]
  },
  {
   "cell_type": "code",
   "execution_count": 481,
   "id": "2b93757c",
   "metadata": {
    "scrolled": true
   },
   "outputs": [
    {
     "data": {
      "image/png": "[encoded data removed]",
      "text/plain": [
       "<Figure size 432x288 with 1 Axes>"
      ]
     },
     "metadata": {},
     "output_type": "display_data"
    }
   ],
   "source": [
    "plot_column(Analysis_510, 'Z-score', 'Forecaster 510', 'blue')"
   ]
  },
  {
   "cell_type": "markdown",
   "id": "d4c5c514",
   "metadata": {},
   "source": [
    "## Macro View\n",
    "- We can now compare hte characteristics of each distribution, and culminate all of our period data together.\n",
    "- We will attain the average p-value, the null rejection rate, and the mean z-score for each of the 3 forecasters in our analysis.\n",
    "- The null rejection rate is defined as the percentage of p-values for a particular ID's forecasts fall below the 0.05 (5%) threshold. If a P-value is greater than 0.05 for a particular period, we fail to reject the null that the forecasters are rational. However, if a P-value is less than 0.05 for a particular period, we reject the null of rationality, and conclude that the forecasters were irrational for a particular period.\n"
   ]
  },
  {
   "cell_type": "code",
   "execution_count": 482,
   "id": "19be1337",
   "metadata": {
    "scrolled": true
   },
   "outputs": [
    {
     "name": "stderr",
     "output_type": "stream",
     "text": [
      "/var/folders/g4/72psbb7d1lz1cfby8trq9sch0000gn/T/ipykernel_8617/1805345494.py:33: FutureWarning: The frame.append method is deprecated and will be removed from pandas in a future version. Use pandas.concat instead.\n",
      "  M2_Analysis = M2_Analysis.append(average_M2_Analysis) #add aggregate row to the dataframe\n"
     ]
    },
    {
     "data": {
      "text/html": [
       "<div>\n",
       "<style scoped>\n",
       "    .dataframe tbody tr th:only-of-type {\n",
       "        vertical-align: middle;\n",
       "    }\n",
       "\n",
       "    .dataframe tbody tr th {\n",
       "        vertical-align: top;\n",
       "    }\n",
       "\n",
       "    .dataframe thead th {\n",
       "        text-align: right;\n",
       "    }\n",
       "</style>\n",
       "<table border=\"1\" class=\"dataframe\">\n",
       "  <thead>\n",
       "    <tr style=\"text-align: right;\">\n",
       "      <th></th>\n",
       "      <th>Average P-value</th>\n",
       "      <th>Null Rejection Rate</th>\n",
       "      <th>Mean Z-score</th>\n",
       "    </tr>\n",
       "    <tr>\n",
       "      <th>ID</th>\n",
       "      <th></th>\n",
       "      <th></th>\n",
       "      <th></th>\n",
       "    </tr>\n",
       "  </thead>\n",
       "  <tbody>\n",
       "    <tr>\n",
       "      <th>510</th>\n",
       "      <td>0.324479</td>\n",
       "      <td>0.383333</td>\n",
       "      <td>-0.479248</td>\n",
       "    </tr>\n",
       "    <tr>\n",
       "      <th>549</th>\n",
       "      <td>0.283950</td>\n",
       "      <td>0.383333</td>\n",
       "      <td>-1.153050</td>\n",
       "    </tr>\n",
       "    <tr>\n",
       "      <th>518</th>\n",
       "      <td>0.175511</td>\n",
       "      <td>0.423729</td>\n",
       "      <td>-1.728756</td>\n",
       "    </tr>\n",
       "    <tr>\n",
       "      <th>Aggregate</th>\n",
       "      <td>0.261313</td>\n",
       "      <td>0.396798</td>\n",
       "      <td>-1.120351</td>\n",
       "    </tr>\n",
       "  </tbody>\n",
       "</table>\n",
       "</div>"
      ],
      "text/plain": [
       "           Average P-value  Null Rejection Rate  Mean Z-score\n",
       "ID                                                           \n",
       "510               0.324479             0.383333     -0.479248\n",
       "549               0.283950             0.383333     -1.153050\n",
       "518               0.175511             0.423729     -1.728756\n",
       "Aggregate         0.261313             0.396798     -1.120351"
      ]
     },
     "execution_count": 482,
     "metadata": {},
     "output_type": "execute_result"
    }
   ],
   "source": [
    "\n",
    "average_p_value_549 = Analysis_549['P-value'].mean() #computes mean p value \n",
    "null_rejection_rate_549= ((Analysis_549['P-value'] < 0.05).sum())/ len(Analysis_549['P-value'])\n",
    "#computes the null_rejection rate \n",
    "\n",
    "mean_z_score_549 = Analysis_549['Z-score'].mean() #compute the mean z-score of the forecasts \n",
    "\n",
    "#repeated for 518\n",
    "average_p_value_518  = Analysis_518['P-value'].mean()\n",
    "null_rejection_rate_518= (((Analysis_518['P-value'] < 0.05).sum())/ len(Analysis_518['P-value']))\n",
    "mean_z_score_518 = Analysis_518['Z-score'].mean()\n",
    "#repeated for 510\n",
    "\n",
    "average_p_value_510 = Analysis_510['P-value'].mean()\n",
    "null_rejection_rate_510 = ((Analysis_510['P-value'] < 0.05).sum())/ len(Analysis_510['P-value'])\n",
    "mean_z_score_510 = Analysis_510['Z-score'].mean()\n",
    "\n",
    "#creating an ID_data dictionary which holds the information we have just computed \n",
    "\n",
    "ID_data = {'ID': [510, 549, 518 ],\n",
    "    'Average P-value': [ average_p_value_510 , average_p_value_549, average_p_value_518],\n",
    "    'Null Rejection Rate': [null_rejection_rate_510,  null_rejection_rate_549,   null_rejection_rate_518],\n",
    "    'Mean Z-score': [mean_z_score_510,  mean_z_score_549, mean_z_score_518]\n",
    "}\n",
    "\n",
    "M2_Analysis = pd.DataFrame(ID_data) #turns the ID_data dict. into a dataframe \n",
    "\n",
    "\n",
    "M2_Analysis = M2_Analysis.set_index('ID') #sets the ID as the index, and gets rid of extra index column \n",
    "\n",
    "average_M2_Analysis = M2_Analysis.mean() #add a row for the mean of the ID information \n",
    "average_M2_Analysis.name = 'Aggregate' #name the row as aggregate row \n",
    "\n",
    "M2_Analysis = M2_Analysis.append(average_M2_Analysis) #add aggregate row to the dataframe \n",
    "\n",
    "M2_Analysis\n"
   ]
  },
  {
   "cell_type": "markdown",
   "id": "e35f2780",
   "metadata": {},
   "source": [
    "This table conveys that over the entire period that these three forecasters produced forecasts of the annual unemployment rate, they were not particularly accurate.\n",
    "\n",
    "## Accuracy Over Time\n"
   ]
  },
  {
   "cell_type": "code",
   "execution_count": 483,
   "id": "d85b79b3",
   "metadata": {},
   "outputs": [
    {
     "data": {
      "text/plain": [
       "MultiIndex([(549, '2009Q2'),\n",
       "            (549, '2009Q3'),\n",
       "            (549, '2009Q4'),\n",
       "            (549, '2010Q1'),\n",
       "            (549, '2010Q2'),\n",
       "            (549, '2010Q3'),\n",
       "            (549, '2010Q4'),\n",
       "            (549, '2011Q1'),\n",
       "            (549, '2011Q2'),\n",
       "            (549, '2011Q3'),\n",
       "            ...\n",
       "            (518, '2021Q4'),\n",
       "            (518, '2022Q1'),\n",
       "            (518, '2022Q2'),\n",
       "            (518, '2022Q3'),\n",
       "            (518, '2022Q4'),\n",
       "            (518, '2023Q1'),\n",
       "            (518, '2023Q2'),\n",
       "            (518, '2023Q3'),\n",
       "            (518, '2023Q4'),\n",
       "            (518, '2024Q1')],\n",
       "           names=['ID', 'Date'], length=179)"
      ]
     },
     "execution_count": 483,
     "metadata": {},
     "output_type": "execute_result"
    }
   ],
   "source": [
    "#the standardized_sampled_data_df is a multi-index data frame holds all the ID's mean forecasts \n",
    "standardized_sampled_data_df.index\n",
    "\n"
   ]
  },
  {
   "cell_type": "code",
   "execution_count": 484,
   "id": "543d87ee",
   "metadata": {},
   "outputs": [
    {
     "data": {
      "text/plain": [
       "PeriodIndex(['2009Q2', '2009Q3', '2009Q4', '2010Q1', '2010Q2', '2010Q3',\n",
       "             '2010Q4', '2011Q1', '2011Q2', '2011Q3', '2011Q4', '2012Q1',\n",
       "             '2012Q2', '2012Q3', '2012Q4', '2013Q1', '2013Q2', '2013Q3',\n",
       "             '2013Q4', '2014Q1', '2014Q2', '2014Q3', '2014Q4', '2015Q1',\n",
       "             '2015Q2', '2015Q3', '2015Q4', '2016Q1', '2016Q2', '2016Q3',\n",
       "             '2016Q4', '2017Q1', '2017Q2', '2017Q3', '2017Q4', '2018Q1',\n",
       "             '2018Q2', '2018Q3', '2018Q4', '2019Q1', '2019Q2', '2019Q3',\n",
       "             '2019Q4', '2020Q1', '2020Q2', '2020Q3', '2020Q4', '2021Q1',\n",
       "             '2021Q2', '2021Q3', '2021Q4', '2022Q1', '2022Q2', '2022Q3',\n",
       "             '2022Q4', '2023Q1', '2023Q2', '2023Q3', '2023Q4', '2024Q1',\n",
       "             '2024Q2', '2024Q3', '2024Q4'],\n",
       "            dtype='period[Q-DEC]', name='observation_date')"
      ]
     },
     "execution_count": 484,
     "metadata": {},
     "output_type": "execute_result"
    }
   ],
   "source": [
    "Annual_Unemployment.index"
   ]
  },
  {
   "cell_type": "code",
   "execution_count": 485,
   "id": "ce74baf6",
   "metadata": {},
   "outputs": [
    {
     "data": {
      "image/png": "[encoded data removed]",
      "text/plain": [
       "<Figure size 1080x576 with 1 Axes>"
      ]
     },
     "metadata": {},
     "output_type": "display_data"
    }
   ],
   "source": [
    "plt.figure(figsize=(15, 8))\n",
    "\n",
    "plotting_mean_data_df = standardized_sampled_data_df.reset_index() #gets rid of the multiindex from the sampled_data_df \n",
    "#creats new Df specifically for plotting the data \n",
    "plotting_mean_data_df['Date'] = plotting_mean_data_df['Date'].dt.to_timestamp()\n",
    "#when plotting we need to convert it to a timestamp() value \n",
    "\n",
    "\n",
    "# Group data by 'ID' and plot each group\n",
    "for id, data in plotting_mean_data_df.groupby('ID'): #groups the IDs and plots \n",
    "    \n",
    "    plt.plot(data['Date'], data['Mean'], label=f'ID {id}') #plots the mean forecast/prediction and the time it occurs \n",
    "    \n",
    "Plotting_Annual_Unemployment = Annual_Unemployment.reset_index() #saves the annual unemployment without an index in a new variable \n",
    "Plotting_Annual_Unemployment['Date'] = Plotting_Annual_Unmployment['observation_date'].dt.to_timestamp()\n",
    "#adds makes the observation date the date as a timestamp ()\n",
    "\n",
    "plt.plot(Plotting_Annual_Unemployment['Date'], Plotting_Annual_Unemployment['Observed Unemployment'], label='Observed Unemployment', color='black', linestyle='--', linewidth=5)\n",
    "#plots the date and the observed unemployment value (what actually occured)\n",
    "plt.title('Mean Forecast Over Time Compared to Observed', fontsize=25)\n",
    "plt.xlabel('Period')\n",
    "plt.ylabel('Mean Forecast ')\n",
    "plt.tight_layout()\n",
    "plt.legend()\n",
    "plt.show()\n"
   ]
  },
  {
   "cell_type": "markdown",
   "id": "0ea88f1f",
   "metadata": {},
   "source": [
    "This plot shows that the mean forecast of our forecasters is actually relatively similar to the observed value. We can also see from this that the forecaster with ID 510 is most accurate, since the blue line is closest to the black line (actual values)\n",
    "\n",
    "## Analysis\n",
    "\n",
    "**recall:**\n"
   ]
  },
  {
   "cell_type": "code",
   "execution_count": 486,
   "id": "cdad3053",
   "metadata": {},
   "outputs": [
    {
     "data": {
      "text/html": [
       "<div>\n",
       "<style scoped>\n",
       "    .dataframe tbody tr th:only-of-type {\n",
       "        vertical-align: middle;\n",
       "    }\n",
       "\n",
       "    .dataframe tbody tr th {\n",
       "        vertical-align: top;\n",
       "    }\n",
       "\n",
       "    .dataframe thead th {\n",
       "        text-align: right;\n",
       "    }\n",
       "</style>\n",
       "<table border=\"1\" class=\"dataframe\">\n",
       "  <thead>\n",
       "    <tr style=\"text-align: right;\">\n",
       "      <th></th>\n",
       "      <th>Average P-value</th>\n",
       "      <th>Null Rejection Rate</th>\n",
       "      <th>Mean Z-score</th>\n",
       "    </tr>\n",
       "    <tr>\n",
       "      <th>ID</th>\n",
       "      <th></th>\n",
       "      <th></th>\n",
       "      <th></th>\n",
       "    </tr>\n",
       "  </thead>\n",
       "  <tbody>\n",
       "    <tr>\n",
       "      <th>510</th>\n",
       "      <td>0.324479</td>\n",
       "      <td>0.383333</td>\n",
       "      <td>-0.479248</td>\n",
       "    </tr>\n",
       "    <tr>\n",
       "      <th>549</th>\n",
       "      <td>0.283950</td>\n",
       "      <td>0.383333</td>\n",
       "      <td>-1.153050</td>\n",
       "    </tr>\n",
       "    <tr>\n",
       "      <th>518</th>\n",
       "      <td>0.175511</td>\n",
       "      <td>0.423729</td>\n",
       "      <td>-1.728756</td>\n",
       "    </tr>\n",
       "    <tr>\n",
       "      <th>Aggregate</th>\n",
       "      <td>0.261313</td>\n",
       "      <td>0.396798</td>\n",
       "      <td>-1.120351</td>\n",
       "    </tr>\n",
       "  </tbody>\n",
       "</table>\n",
       "</div>"
      ],
      "text/plain": [
       "           Average P-value  Null Rejection Rate  Mean Z-score\n",
       "ID                                                           \n",
       "510               0.324479             0.383333     -0.479248\n",
       "549               0.283950             0.383333     -1.153050\n",
       "518               0.175511             0.423729     -1.728756\n",
       "Aggregate         0.261313             0.396798     -1.120351"
      ]
     },
     "execution_count": 486,
     "metadata": {},
     "output_type": "execute_result"
    }
   ],
   "source": [
    "M2_Analysis #snapshot of the overall statistical charactersitics of each ID, and the 3 on aggregate. "
   ]
  },
  {
   "cell_type": "markdown",
   "id": "63af8ae9",
   "metadata": {},
   "source": [
    "Interestingly, the forecasters have tended to underforecast the unemployment rate, which we can determine based on the z-scores. For each of the 3 ID's being analyzed, the mean Z-score is well below 0. This means that, on average, given the standard deviation implied by the forecasters, they were a full standard deviation less than the true annual unemployment rate.\n",
    "\n",
    "There could be several reasons why the forecasters tended to overestimate the level of unemployment, but one reason could be shocks to the eocnomy which created incredibly high levels of unemployment, and were impossible to fully predict with the information the forecasters had. The most obvious and recent example of this is the COVID-19 pandemic, which resulted in extrordinarily high unemployment.\n",
    "We can see from our time trend graph, that the height of the COVID-19 pandemic was when forecasters and reality were most out-of-touch. Forecasters predicted higher unemployment values than were observed over the course of the 2020 year.\n",
    "\n",
    "Another interesting trend depicted in the graph, is that forecasters have expect the unemployment rate to climb over the past few years, but it has not budged. Since 2022, the unemployment rate has remained steady at around 4%.  Also notably, the forecasters are more closely aligned in prediction with eachother, than any of the forecasters are aligned with the real unemployment rate. This is because the forecasters are likley using similar metrics and information to generate their predictions.\n",
    "\n",
    "The graph of the forecasters' predictions and the observed values paints a much different picture than the one painted by the numerical data. The standard deviation of the forecasters forecasts was implied to be very small, because the forecasters did not (usually) utilize all 10 columns or intervals. So, if an observed value fell outside of their implied intervals, the p-value 'punishes' them harshly. Consequently, many forecasters attained a p-value of 0 for a particular period, even though their mean forecast was somewhat accurate. The forecasters distributions were too narrow, or in other words, the forecasters were more sure of what reality would be than they should have been.\n",
    "\n",
    "However, when we have a visual element to analyze, we can see that the mean was not too far away from reality for most of the time period. For this reason, the visual analysis we created with the time series graph makes it more difficult to conclude whether or not the forecasters are rational. If the forecasters only provided mean estimates rather than probability distributions, their forecast error metrics would be much more favorable.\n",
    "\n",
    "# Overall Conclusion:\n",
    "## The 3 Forecasters Analyzed are Not Rational With Their Probability Intervals\n",
    "\n",
    "The standard deviation or standard error of the forecasters is very small, even though the deviation of the unemployment rate over time is much larger. Still, there were a multitude of instances in which the unemployment rate fell into an interval which forecasters determined had a zero (0%) probability of occuring. The forecasters are irrational for not including some probability, however small, of the unemployment rate falling in this interval. There were several periods in which forecasters only included 2-3 intervals, with one of the intervals containing up to 80% of the probability distribution. This level of certainty with respect to the future value of unemployment is misguided. \n",
    "\n",
    "In each ID, and each period in the ID's, we use the null hypothesis that the true unemployment rate was drawn from the distribution implied by the forecasters' intervals, and the null being false as our alternative. When we do this, we determine that a large amount of the forecasting periods (39.6790 %) lead to null hypothesis rejection.\n",
    "\n",
    "Forecasters consistently over-estimate what the level of unemployment will be. All three of our ID's forecasts had aggregate negative z-scores, meaning the true unemployment was often lower than predicted by the forecasters. In other words, if the actual unemployment was drawn from teh forecasters' implied distribution, the actual unemplyoment value would typically be about a standard deviation lower than the mean of the distribution, which is incredibly unlikley if it were truly drawn from the forecasters' prediction intervals.\n",
    "\n",
    "The average p-value of the forecasters' forecasts given the true unemployment was about 0.26, which is low, but not extremely low. Still, the high sample size means that an aggregate p-value of 0.26 could suggest that the forecasters are irrational, even if 0.26 is still greater than our null hypothesis rejection threshold of 0.05.\n",
    "\n",
    "The visualization of the mean forecasts against the true unemployment shows that the forecasters follow the observed unemployment level somewhat closely. This suggests that the low p-value and high z-score are a consequence of poor interval estimation (forecasters believe the interval is too small relative to reality) rather than their average estimations of the unemployment level being off-base.\n",
    "\n",
    "Forecasters are much more in-line with reality during the 2009-2018 period, than the 2018-2024 period. Especially durign the 2022-2024 period, the forecasters' beliefs about both the value, and trend of unemployment have not been particularly accurate.\n"
   ]
  }
 ],
 "metadata": {
  "kernelspec": {
   "display_name": "Python 3 (ipykernel)",
   "language": "python",
   "name": "python3"
  },
  "language_info": {
   "codemirror_mode": {
    "name": "ipython",
    "version": 3
   },
   "file_extension": ".py",
   "mimetype": "text/x-python",
   "name": "python",
   "nbconvert_exporter": "python",
   "pygments_lexer": "ipython3",
   "version": "3.9.12"
  }
 },
 "nbformat": 4,
 "nbformat_minor": 5
}
